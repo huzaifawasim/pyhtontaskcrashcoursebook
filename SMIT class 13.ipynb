{
 "cells": [
  {
   "cell_type": "code",
   "execution_count": 1,
   "id": "0864d4bb",
   "metadata": {},
   "outputs": [
    {
     "name": "stdout",
     "output_type": "stream",
     "text": [
      "hello world\n"
     ]
    }
   ],
   "source": [
    "%run pyhton.py"
   ]
  },
  {
   "cell_type": "code",
   "execution_count": 2,
   "id": "aa658fc8",
   "metadata": {},
   "outputs": [
    {
     "ename": "SyntaxError",
     "evalue": "invalid syntax (Temp/ipykernel_4912/2716174783.py, line 3)",
     "output_type": "error",
     "traceback": [
      "\u001b[1;36m  File \u001b[1;32m\"C:\\Users\\LAB01R~1\\AppData\\Local\\Temp/ipykernel_4912/2716174783.py\"\u001b[1;36m, line \u001b[1;32m3\u001b[0m\n\u001b[1;33m    Number No inverted comma\u001b[0m\n\u001b[1;37m           ^\u001b[0m\n\u001b[1;31mSyntaxError\u001b[0m\u001b[1;31m:\u001b[0m invalid syntax\n"
     ]
    }
   ],
   "source": [
    "#Value \n",
    "\n",
    "Number No inverted comma \n",
    "string \"\"\n",
    "Boolean No Inverted comma"
   ]
  },
  {
   "cell_type": "markdown",
   "id": "0d9794f1",
   "metadata": {},
   "source": [
    "## python"
   ]
  },
  {
   "cell_type": "markdown",
   "id": "c5c0b274",
   "metadata": {},
   "source": [
    "##python"
   ]
  },
  {
   "cell_type": "code",
   "execution_count": null,
   "id": "b48ba709",
   "metadata": {},
   "outputs": [],
   "source": [
    "## python\n",
    "#shift +Enter krke heading bn jayegi\n"
   ]
  },
  {
   "cell_type": "code",
   "execution_count": null,
   "id": "d4e23274",
   "metadata": {},
   "outputs": [],
   "source": [
    "#print print is a python built in function/statement ()"
   ]
  },
  {
   "cell_type": "code",
   "execution_count": null,
   "id": "8f022f3d",
   "metadata": {},
   "outputs": [],
   "source": [
    "print (\"pakistan Zindabad\")\n",
    "#Funcname     Arguments\n",
    "#Comment "
   ]
  },
  {
   "cell_type": "code",
   "execution_count": null,
   "id": "cdd6d3dc",
   "metadata": {},
   "outputs": [],
   "source": [
    "print(\"Iam a string value\",11,12,True,False,sep=\" \")\n",
    "\n",
    "#print(value, ..., sep=' ', end='\\n', file=sys.stdout, flush=False)\n",
    "\n",
    "\n"
   ]
  },
  {
   "cell_type": "code",
   "execution_count": null,
   "id": "06e7d27f",
   "metadata": {},
   "outputs": [],
   "source": [
    "#In() Execution number kehlata hai (left side pe jo curly bracket hai)\n"
   ]
  },
  {
   "cell_type": "code",
   "execution_count": null,
   "id": "18345afe",
   "metadata": {},
   "outputs": [],
   "source": [
    "\\n \\t Excape character "
   ]
  },
  {
   "cell_type": "code",
   "execution_count": null,
   "id": "092a490e",
   "metadata": {},
   "outputs": [],
   "source": [
    "print(\"python for \\n \\t all\")"
   ]
  },
  {
   "cell_type": "code",
   "execution_count": null,
   "id": "91f279ba",
   "metadata": {},
   "outputs": [],
   "source": [
    "print(\"pakistan Zindabad\",end=\"\\n\")\n",
    "print(\"pakistan Zindabad\")"
   ]
  },
  {
   "cell_type": "code",
   "execution_count": null,
   "id": "90ae944e",
   "metadata": {},
   "outputs": [],
   "source": [
    "#date type in python\n"
   ]
  },
  {
   "cell_type": "markdown",
   "id": "f9e8e267",
   "metadata": {},
   "source": [
    "## Variable for string"
   ]
  },
  {
   "cell_type": "code",
   "execution_count": null,
   "id": "52661415",
   "metadata": {},
   "outputs": [],
   "source": [
    "Age =21.7\n",
    "\n",
    "\n",
    "#age is vaiable\n",
    "#21.7 is a value \n",
    "= assignment operator\n",
    "\n",
    "##What is variable = \n",
    "\n",
    "variable is the identifier which stores data in it "
   ]
  },
  {
   "cell_type": "markdown",
   "id": "7da8711c",
   "metadata": {},
   "source": [
    "## Data type in python"
   ]
  },
  {
   "cell_type": "code",
   "execution_count": null,
   "id": "4966f6ed",
   "metadata": {},
   "outputs": [],
   "source": [
    "Integer (whole number )\n",
    "Float (Decimal value )\n",
    "string\n",
    "Boolean ( T , F)"
   ]
  },
  {
   "cell_type": "code",
   "execution_count": 4,
   "id": "5fb93e99",
   "metadata": {},
   "outputs": [],
   "source": [
    "Name=\"huzaifa\""
   ]
  },
  {
   "cell_type": "code",
   "execution_count": 5,
   "id": "34812c06",
   "metadata": {},
   "outputs": [
    {
     "data": {
      "text/plain": [
       "'huzaifa'"
      ]
     },
     "execution_count": 5,
     "metadata": {},
     "output_type": "execute_result"
    }
   ],
   "source": [
    "Name\n"
   ]
  },
  {
   "cell_type": "code",
   "execution_count": 6,
   "id": "3b4b4faf",
   "metadata": {},
   "outputs": [
    {
     "ename": "SyntaxError",
     "evalue": "invalid syntax (Temp/ipykernel_1500/2353074128.py, line 1)",
     "output_type": "error",
     "traceback": [
      "\u001b[1;36m  File \u001b[1;32m\"C:\\Users\\LAB01R~1\\AppData\\Local\\Temp/ipykernel_1500/2353074128.py\"\u001b[1;36m, line \u001b[1;32m1\u001b[0m\n\u001b[1;33m    id(Name)  ye iska addres btaraha hai\u001b[0m\n\u001b[1;37m              ^\u001b[0m\n\u001b[1;31mSyntaxError\u001b[0m\u001b[1;31m:\u001b[0m invalid syntax\n"
     ]
    }
   ],
   "source": [
    "id(Name)  ye iska addres btaraha hai"
   ]
  },
  {
   "cell_type": "code",
   "execution_count": 7,
   "id": "445df83e",
   "metadata": {},
   "outputs": [
    {
     "data": {
      "text/plain": [
       "str"
      ]
     },
     "execution_count": 7,
     "metadata": {},
     "output_type": "execute_result"
    }
   ],
   "source": [
    "type(Name)"
   ]
  },
  {
   "cell_type": "code",
   "execution_count": null,
   "id": "0345ff58",
   "metadata": {},
   "outputs": [],
   "source": [
    "Name=2"
   ]
  },
  {
   "cell_type": "code",
   "execution_count": null,
   "id": "5ef03b36",
   "metadata": {},
   "outputs": [],
   "source": [
    "Name"
   ]
  },
  {
   "cell_type": "code",
   "execution_count": null,
   "id": "66e9dd30",
   "metadata": {},
   "outputs": [],
   "source": [
    "type(Name)"
   ]
  },
  {
   "cell_type": "markdown",
   "id": "328ff52b",
   "metadata": {},
   "source": [
    "# Operators"
   ]
  },
  {
   "cell_type": "code",
   "execution_count": null,
   "id": "c209bcd3",
   "metadata": {},
   "outputs": [],
   "source": [
    "**#Addition(+)\n",
    "  #Subtraction(-)\n",
    "  # multiply (*)\n",
    "    #Divide (/ or //)**\n",
    "    \n"
   ]
  },
  {
   "cell_type": "code",
   "execution_count": null,
   "id": "a376a6bf",
   "metadata": {},
   "outputs": [],
   "source": [
    "Marks=4\n"
   ]
  },
  {
   "cell_type": "code",
   "execution_count": null,
   "id": "cc17f04a",
   "metadata": {},
   "outputs": [],
   "source": [
    "Age=2"
   ]
  },
  {
   "cell_type": "code",
   "execution_count": 8,
   "id": "c6b6ec82",
   "metadata": {},
   "outputs": [
    {
     "ename": "NameError",
     "evalue": "name 'Age' is not defined",
     "output_type": "error",
     "traceback": [
      "\u001b[1;31m---------------------------------------------------------------------------\u001b[0m",
      "\u001b[1;31mNameError\u001b[0m                                 Traceback (most recent call last)",
      "\u001b[1;32mC:\\Users\\LAB01R~1\\AppData\\Local\\Temp/ipykernel_1500/2433692149.py\u001b[0m in \u001b[0;36m<module>\u001b[1;34m\u001b[0m\n\u001b[1;32m----> 1\u001b[1;33m \u001b[0mAge\u001b[0m\u001b[1;33m+\u001b[0m\u001b[1;36m5\u001b[0m\u001b[1;33m\u001b[0m\u001b[1;33m\u001b[0m\u001b[0m\n\u001b[0m",
      "\u001b[1;31mNameError\u001b[0m: name 'Age' is not defined"
     ]
    }
   ],
   "source": [
    "Age+5"
   ]
  },
  {
   "cell_type": "code",
   "execution_count": 9,
   "id": "6efb2d4f",
   "metadata": {},
   "outputs": [
    {
     "ename": "NameError",
     "evalue": "name 'Marks' is not defined",
     "output_type": "error",
     "traceback": [
      "\u001b[1;31m---------------------------------------------------------------------------\u001b[0m",
      "\u001b[1;31mNameError\u001b[0m                                 Traceback (most recent call last)",
      "\u001b[1;32mC:\\Users\\LAB01R~1\\AppData\\Local\\Temp/ipykernel_1500/1687489415.py\u001b[0m in \u001b[0;36m<module>\u001b[1;34m\u001b[0m\n\u001b[1;32m----> 1\u001b[1;33m \u001b[0mMarks\u001b[0m \u001b[1;33m+\u001b[0m\u001b[0mAge\u001b[0m\u001b[1;33m\u001b[0m\u001b[1;33m\u001b[0m\u001b[0m\n\u001b[0m",
      "\u001b[1;31mNameError\u001b[0m: name 'Marks' is not defined"
     ]
    }
   ],
   "source": [
    "Marks +Age"
   ]
  },
  {
   "cell_type": "code",
   "execution_count": null,
   "id": "bfb67a3b",
   "metadata": {},
   "outputs": [],
   "source": [
    "Age=Age+1"
   ]
  },
  {
   "cell_type": "code",
   "execution_count": null,
   "id": "29c15ff2",
   "metadata": {},
   "outputs": [],
   "source": [
    "Marks +Age\n"
   ]
  },
  {
   "cell_type": "code",
   "execution_count": null,
   "id": "146c2307",
   "metadata": {},
   "outputs": [],
   "source": [
    "Age+=1"
   ]
  },
  {
   "cell_type": "code",
   "execution_count": null,
   "id": "4440a796",
   "metadata": {},
   "outputs": [],
   "source": [
    "print(Age)"
   ]
  },
  {
   "cell_type": "code",
   "execution_count": 10,
   "id": "6a4b83fb",
   "metadata": {},
   "outputs": [
    {
     "data": {
      "text/plain": [
       "3.3333333333333335"
      ]
     },
     "execution_count": 10,
     "metadata": {},
     "output_type": "execute_result"
    }
   ],
   "source": [
    "10/3\n",
    "\n",
    "#Float me value ayegi"
   ]
  },
  {
   "cell_type": "code",
   "execution_count": 11,
   "id": "be58d6ea",
   "metadata": {},
   "outputs": [
    {
     "data": {
      "text/plain": [
       "3"
      ]
     },
     "execution_count": 11,
     "metadata": {},
     "output_type": "execute_result"
    }
   ],
   "source": [
    "10//3\n",
    "#// double slash use krne se decimal part remove hojayega"
   ]
  },
  {
   "cell_type": "code",
   "execution_count": null,
   "id": "11fe8b0a",
   "metadata": {},
   "outputs": [],
   "source": [
    "##Floor Division ( value km krna ) and Ceil Divison ( value barh jana )"
   ]
  },
  {
   "cell_type": "markdown",
   "id": "f130cdbb",
   "metadata": {},
   "source": [
    "# Floor and Ceil ( Sub topic)"
   ]
  },
  {
   "cell_type": "code",
   "execution_count": 19,
   "id": "920d20a5",
   "metadata": {},
   "outputs": [],
   "source": [
    "import math\n"
   ]
  },
  {
   "cell_type": "code",
   "execution_count": 22,
   "id": "098e67cb",
   "metadata": {},
   "outputs": [
    {
     "data": {
      "text/plain": [
       "23"
      ]
     },
     "execution_count": 22,
     "metadata": {},
     "output_type": "execute_result"
    }
   ],
   "source": [
    "import math\n",
    "math.floor(23.5) #previous Number "
   ]
  },
  {
   "cell_type": "code",
   "execution_count": 23,
   "id": "5ce4b477",
   "metadata": {},
   "outputs": [
    {
     "data": {
      "text/plain": [
       "24"
      ]
     },
     "execution_count": 23,
     "metadata": {},
     "output_type": "execute_result"
    }
   ],
   "source": [
    "math.ceil(23.52) #next number "
   ]
  },
  {
   "cell_type": "code",
   "execution_count": null,
   "id": "ce08b62c",
   "metadata": {},
   "outputs": [],
   "source": [
    "import math as n\n",
    "\n",
    "print(n.floor(23.1))\n",
    "print(n.ceil(23.5))"
   ]
  },
  {
   "cell_type": "code",
   "execution_count": 24,
   "id": "a34c88c4",
   "metadata": {},
   "outputs": [
    {
     "name": "stdout",
     "output_type": "stream",
     "text": [
      "huzaifa\n",
      "huzaifa abha \n"
     ]
    }
   ],
   "source": [
    "a=\"huzaifa\"\n",
    "print(a)\n",
    "a=\"huzaifa abha \"\n",
    "print(a)"
   ]
  },
  {
   "cell_type": "markdown",
   "id": "bbdaa02a",
   "metadata": {},
   "source": [
    "## variable names Legal and Illegel\n"
   ]
  },
  {
   "cell_type": "code",
   "execution_count": null,
   "id": "ff27b9a6",
   "metadata": {},
   "outputs": [],
   "source": [
    "Else =\" huzaifa\"\n",
    "\n",
    "Reserved word cannot used "
   ]
  },
  {
   "cell_type": "code",
   "execution_count": null,
   "id": "eec93094",
   "metadata": {},
   "outputs": [],
   "source": [
    "Special Characters . ? "
   ]
  },
  {
   "cell_type": "code",
   "execution_count": null,
   "id": "63158ec5",
   "metadata": {},
   "outputs": [],
   "source": [
    "father_Name =\"Waseem \""
   ]
  },
  {
   "cell_type": "code",
   "execution_count": 3,
   "id": "2c1d4d5d",
   "metadata": {},
   "outputs": [],
   "source": [
    "Student= \"huzaifa\""
   ]
  },
  {
   "cell_type": "code",
   "execution_count": 4,
   "id": "cdf925c5",
   "metadata": {},
   "outputs": [],
   "source": [
    "Studentwaseem =\" huzaifa\""
   ]
  },
  {
   "cell_type": "code",
   "execution_count": 5,
   "id": "e0b1efb1",
   "metadata": {},
   "outputs": [
    {
     "name": "stdout",
     "output_type": "stream",
     "text": [
      " huzaifa\n"
     ]
    }
   ],
   "source": [
    "print(Studentwaseem)"
   ]
  },
  {
   "cell_type": "code",
   "execution_count": 6,
   "id": "c769d610",
   "metadata": {},
   "outputs": [
    {
     "name": "stdout",
     "output_type": "stream",
     "text": [
      "57\n"
     ]
    }
   ],
   "source": [
    "import sys\n",
    "print(sys.getsizeof(Studentwaseem))"
   ]
  },
  {
   "cell_type": "markdown",
   "id": "1f2fef5c",
   "metadata": {},
   "source": [
    "## User Input "
   ]
  },
  {
   "cell_type": "code",
   "execution_count": 18,
   "id": "95fa74f4",
   "metadata": {},
   "outputs": [
    {
     "name": "stdout",
     "output_type": "stream",
     "text": [
      "Enter your age : 2\n",
      "Enter your name : huz\n",
      "My name is : huz \n",
      "And age is : 2\n"
     ]
    }
   ],
   "source": [
    "age=input(\"Enter your age : \")\n",
    "Name=input(\"Enter your name : \")\n",
    "print(\"My name is :\", Name,\"\\nAnd age is :\",age)\n"
   ]
  },
  {
   "cell_type": "code",
   "execution_count": 8,
   "id": "3473a41c",
   "metadata": {},
   "outputs": [
    {
     "data": {
      "text/plain": [
       "str"
      ]
     },
     "execution_count": 8,
     "metadata": {},
     "output_type": "execute_result"
    }
   ],
   "source": [
    "type(age)"
   ]
  },
  {
   "cell_type": "code",
   "execution_count": 9,
   "id": "400561d0",
   "metadata": {},
   "outputs": [],
   "source": [
    "b = 2"
   ]
  },
  {
   "cell_type": "code",
   "execution_count": 10,
   "id": "fee529b4",
   "metadata": {},
   "outputs": [
    {
     "data": {
      "text/plain": [
       "int"
      ]
     },
     "execution_count": 10,
     "metadata": {},
     "output_type": "execute_result"
    }
   ],
   "source": [
    "type(b)"
   ]
  },
  {
   "cell_type": "code",
   "execution_count": 11,
   "id": "cba57cb7",
   "metadata": {},
   "outputs": [
    {
     "data": {
      "text/plain": [
       "int"
      ]
     },
     "execution_count": 11,
     "metadata": {},
     "output_type": "execute_result"
    }
   ],
   "source": [
    "c =2\n",
    "type(c)"
   ]
  },
  {
   "cell_type": "markdown",
   "id": "e89df47a",
   "metadata": {},
   "source": [
    "## String Concatenation"
   ]
  },
  {
   "cell_type": "code",
   "execution_count": 12,
   "id": "1fd7c0a3",
   "metadata": {},
   "outputs": [],
   "source": [
    "First_name = \" Huzaifa\"\n",
    "last_name = \"Abha\"\n"
   ]
  },
  {
   "cell_type": "code",
   "execution_count": 13,
   "id": "f3abda46",
   "metadata": {},
   "outputs": [
    {
     "name": "stdout",
     "output_type": "stream",
     "text": [
      " Huzaifa Abha\n"
     ]
    }
   ],
   "source": [
    "a= First_name + \" \" + last_name\n",
    "print(a)"
   ]
  },
  {
   "cell_type": "code",
   "execution_count": 14,
   "id": "79657922",
   "metadata": {},
   "outputs": [
    {
     "ename": "SyntaxError",
     "evalue": "invalid syntax (Temp/ipykernel_4912/3819299957.py, line 3)",
     "output_type": "error",
     "traceback": [
      "\u001b[1;36m  File \u001b[1;32m\"C:\\Users\\LAB01R~1\\AppData\\Local\\Temp/ipykernel_4912/3819299957.py\"\u001b[1;36m, line \u001b[1;32m3\u001b[0m\n\u001b[1;33m    Int =int +int addition\u001b[0m\n\u001b[1;37m                  ^\u001b[0m\n\u001b[1;31mSyntaxError\u001b[0m\u001b[1;31m:\u001b[0m invalid syntax\n"
     ]
    }
   ],
   "source": [
    "+Operator \n",
    "\n",
    "Int =int +int addition \n",
    "String +String  Concatenation "
   ]
  },
  {
   "cell_type": "code",
   "execution_count": 25,
   "id": "a21eff09",
   "metadata": {},
   "outputs": [
    {
     "ename": "TypeError",
     "evalue": "unsupported operand type(s) for +: 'int' and 'str'",
     "output_type": "error",
     "traceback": [
      "\u001b[1;31m---------------------------------------------------------------------------\u001b[0m",
      "\u001b[1;31mTypeError\u001b[0m                                 Traceback (most recent call last)",
      "\u001b[1;32mC:\\Users\\LAB01R~1\\AppData\\Local\\Temp/ipykernel_1500/3101208016.py\u001b[0m in \u001b[0;36m<module>\u001b[1;34m\u001b[0m\n\u001b[0;32m      1\u001b[0m \u001b[0mFirst_name\u001b[0m \u001b[1;33m=\u001b[0m \u001b[1;36m2\u001b[0m\u001b[1;33m\u001b[0m\u001b[1;33m\u001b[0m\u001b[0m\n\u001b[0;32m      2\u001b[0m \u001b[0mlast_name\u001b[0m \u001b[1;33m=\u001b[0m \u001b[1;34m\"Abha\"\u001b[0m\u001b[1;33m\u001b[0m\u001b[1;33m\u001b[0m\u001b[0m\n\u001b[1;32m----> 3\u001b[1;33m \u001b[0ma\u001b[0m\u001b[1;33m=\u001b[0m \u001b[0mFirst_name\u001b[0m \u001b[1;33m+\u001b[0m \u001b[1;34m\" \"\u001b[0m \u001b[1;33m+\u001b[0m \u001b[0mlast_name\u001b[0m\u001b[1;33m\u001b[0m\u001b[1;33m\u001b[0m\u001b[0m\n\u001b[0m\u001b[0;32m      4\u001b[0m \u001b[0mprint\u001b[0m\u001b[1;33m(\u001b[0m\u001b[0ma\u001b[0m\u001b[1;33m)\u001b[0m\u001b[1;33m\u001b[0m\u001b[1;33m\u001b[0m\u001b[0m\n\u001b[0;32m      5\u001b[0m \u001b[1;33m(\u001b[0m\u001b[1;34m\"\"\u001b[0m\u001b[1;33m)\u001b[0m\u001b[1;33m\u001b[0m\u001b[1;33m\u001b[0m\u001b[0m\n",
      "\u001b[1;31mTypeError\u001b[0m: unsupported operand type(s) for +: 'int' and 'str'"
     ]
    }
   ],
   "source": [
    "First_name = 2\n",
    "last_name = \"Abha\"\n",
    "a= First_name + \" \" + last_name\n",
    "print(a)\n",
    ", "
   ]
  },
  {
   "cell_type": "code",
   "execution_count": 6,
   "id": "2dcbb257",
   "metadata": {},
   "outputs": [
    {
     "name": "stdout",
     "output_type": "stream",
     "text": [
      "my name is : abha and age is: 22\n"
     ]
    }
   ],
   "source": [
    "Name = \"abha\"\n",
    "age = \" 22\"\n",
    "a= \"my name is : \" +Name +\" and age is:\" +age\n",
    "print(a)"
   ]
  },
  {
   "cell_type": "code",
   "execution_count": null,
   "id": "0250a2ff",
   "metadata": {},
   "outputs": [],
   "source": []
  },
  {
   "cell_type": "code",
   "execution_count": null,
   "id": "d6d6432d",
   "metadata": {},
   "outputs": [],
   "source": []
  },
  {
   "cell_type": "markdown",
   "id": "7aae396b",
   "metadata": {},
   "source": [
    "## type casting "
   ]
  },
  {
   "cell_type": "code",
   "execution_count": 20,
   "id": "ad355c58",
   "metadata": {},
   "outputs": [
    {
     "name": "stdout",
     "output_type": "stream",
     "text": [
      "Enter your age : 25\n",
      "Enter your name : 25\n",
      "My name is :25 And age is :25\n"
     ]
    }
   ],
   "source": [
    "age=int(input(\"Enter your age : \"))\n",
    "Name=input(\"Enter your name : \")\n",
    "print(\"My name is :\"+ Name +\" And age is :\"+str(age))\n"
   ]
  },
  {
   "cell_type": "code",
   "execution_count": 21,
   "id": "f0f8a259",
   "metadata": {},
   "outputs": [
    {
     "data": {
      "text/plain": [
       "515"
      ]
     },
     "execution_count": 21,
     "metadata": {},
     "output_type": "execute_result"
    }
   ],
   "source": [
    "int(\"515\")\n"
   ]
  },
  {
   "cell_type": "markdown",
   "id": "08e6a6d9",
   "metadata": {},
   "source": [
    "## String Formation"
   ]
  },
  {
   "cell_type": "code",
   "execution_count": 28,
   "id": "c0d823cd",
   "metadata": {},
   "outputs": [
    {
     "name": "stdout",
     "output_type": "stream",
     "text": [
      "Enter the company namesaylani\n",
      "how many unit sold out :25\n",
      "Enter the price per unit : 20\n",
      "you have ordered 25 units from the company saylani and the per unit price 20\n"
     ]
    }
   ],
   "source": [
    "Company = input(\"Enter the company name\")\n",
    "number_of_units= int(input(\"how many unit sold out :\" ))\n",
    "price_per_unit =int(input(\"Enter the price per unit : \"))\n",
    "print(\"you have ordered {} units from the company {} and the per unit price {}\".format(number_of_units,Company,price_per_unit))\n"
   ]
  },
  {
   "cell_type": "code",
   "execution_count": 9,
   "id": "ff477c9c",
   "metadata": {},
   "outputs": [
    {
     "name": "stdout",
     "output_type": "stream",
     "text": [
      "Enter the company nametecno\n",
      "how many unit sold out :25\n",
      "Enter the price per unit : 20\n",
      "you have ordered 25 from the companytecnoand the per unit price 20\n"
     ]
    }
   ],
   "source": [
    "Company = input(\"Enter the company name\")\n",
    "number_of_units= int(input(\"how many unit sold out :\" ))\n",
    "price_per_unit =int(input(\"Enter the price per unit : \"))\n",
    "print(\"you have ordered \" + str(number_of_units)+\" from the company \" + Company +  \"and the per unit price \" + str(price_per_unit ))"
   ]
  },
  {
   "cell_type": "markdown",
   "id": "3389959c",
   "metadata": {},
   "source": [
    "## String formation ( Direct method)\n",
    "\n",
    "\n",
    "Name = \"huzaifa\"\n",
    "father_name = \"waseem \"\n",
    "\n",
    "print(f\"My name is {Name} and my father name is {father_name}\")"
   ]
  },
  {
   "cell_type": "code",
   "execution_count": 27,
   "id": "d796e826",
   "metadata": {},
   "outputs": [
    {
     "name": "stdout",
     "output_type": "stream",
     "text": [
      "i am huzaifa I am 29  yrs old and I admitted in saylani\n"
     ]
    }
   ],
   "source": [
    "## String formation ( Indexing  method using format)\n",
    "\n",
    "print(\"i am {} I am {} yrs old and I admitted in {}\".format( \"huzaifa\", \"29 \", \"saylani\"))"
   ]
  },
  {
   "cell_type": "code",
   "execution_count": 35,
   "id": "7260bbd2",
   "metadata": {},
   "outputs": [
    {
     "data": {
      "text/plain": [
       "'i am  huzaifa I am 29 yrs old and I admitted in saylani'"
      ]
     },
     "execution_count": 35,
     "metadata": {},
     "output_type": "execute_result"
    }
   ],
   "source": [
    "Name =\" huzaifa\"\n",
    "age = \"29\"\n",
    "institute = \"saylani\"\n",
    "\n",
    "f\"i am {Name} I am {age} yrs old and I admitted in {institute}\" # f use krnay se indexing ab direct usko consider nai krega "
   ]
  },
  {
   "cell_type": "markdown",
   "id": "967b683c",
   "metadata": {},
   "source": [
    "## String can be used as \" \" ,' ',''' '''\n",
    "\n"
   ]
  },
  {
   "cell_type": "code",
   "execution_count": null,
   "id": "9d34c432",
   "metadata": {},
   "outputs": [],
   "source": [
    "print('I am all students of \"Saylani Institute \"') #Single quote use kiya hai double quote ko use krnay ke liye "
   ]
  },
  {
   "cell_type": "code",
   "execution_count": 37,
   "id": "c39ad99f",
   "metadata": {},
   "outputs": [
    {
     "name": "stdout",
     "output_type": "stream",
     "text": [
      "I am all students of \"Saylani Institute \"\n"
     ]
    }
   ],
   "source": [
    "print(\"I am all students of \\\"Saylani Institute \\\"\") # Slash use kiya hai double quote me rakhnay ke liye "
   ]
  },
  {
   "cell_type": "markdown",
   "id": "3579cc20",
   "metadata": {},
   "source": [
    " ## New topic (Multiline string formation )"
   ]
  },
  {
   "cell_type": "code",
   "execution_count": 1,
   "id": "d1504f72",
   "metadata": {},
   "outputs": [
    {
     "name": "stdout",
     "output_type": "stream",
     "text": [
      "         Saylani Mass IT training \n",
      "\n",
      " Name : Huzaifa \n",
      " Course : AI and DS \n",
      " \n"
     ]
    }
   ],
   "source": [
    "print(\"         Saylani Mass IT training \\n\\n Name : Huzaifa \\n Course : AI and DS \\n \")"
   ]
  },
  {
   "cell_type": "code",
   "execution_count": 3,
   "id": "3dfb37e4",
   "metadata": {},
   "outputs": [
    {
     "name": "stdout",
     "output_type": "stream",
     "text": [
      " Enter student name: huzaifa\n",
      "Enter father name: waseem\n",
      "Enter course time7\n",
      " \n",
      "     Saylani Mass Program\n",
      "\n",
      "Name :huzaifa\n",
      "father name : waseem\n",
      "Time : 7\n",
      "\n",
      "\n"
     ]
    }
   ],
   "source": [
    "Student_name = input(\" Enter student name: \")\n",
    "father_name =input(\" Enter father name: \")\n",
    "coursetime = input(\" Enter course time\")\n",
    "\n",
    "print(f\"\"\" \\n     Saylani Mass Program\n",
    "\n",
    "Name :{Student_name}\n",
    "father name : {father_name}\n",
    "Time : {coursetime}\n",
    "\n",
    "\"\"\")"
   ]
  },
  {
   "cell_type": "code",
   "execution_count": 26,
   "id": "56f5449c",
   "metadata": {},
   "outputs": [
    {
     "data": {
      "text/plain": [
       "-1"
      ]
     },
     "execution_count": 26,
     "metadata": {},
     "output_type": "execute_result"
    }
   ],
   "source": [
    "a=\"i am Huzaifa waseem and I live in north karachi\"\n",
    "\n",
    "a.find(\"huzaifa\") # 1 ) -1 ka mtlb hai ke letter nai mila  2) -1 last letter ko find krnay ke liye use houta hai\n"
   ]
  },
  {
   "cell_type": "code",
   "execution_count": 26,
   "id": "d949b95b",
   "metadata": {},
   "outputs": [
    {
     "data": {
      "text/plain": [
       "1"
      ]
     },
     "execution_count": 26,
     "metadata": {},
     "output_type": "execute_result"
    }
   ],
   "source": [
    "a.count(a)"
   ]
  },
  {
   "cell_type": "code",
   "execution_count": 9,
   "id": "a77df789",
   "metadata": {},
   "outputs": [
    {
     "data": {
      "text/plain": [
       "'I am huzaifa waseem and i live in north karachi'"
      ]
     },
     "execution_count": 9,
     "metadata": {},
     "output_type": "execute_result"
    }
   ],
   "source": [
    "a.capitalize()"
   ]
  },
  {
   "cell_type": "code",
   "execution_count": 10,
   "id": "d5d71b79",
   "metadata": {},
   "outputs": [
    {
     "data": {
      "text/plain": [
       "'I AM HUZAIFA WASEEM AND I LIVE IN NORTH KARACHI'"
      ]
     },
     "execution_count": 10,
     "metadata": {},
     "output_type": "execute_result"
    }
   ],
   "source": [
    "a.upper()"
   ]
  },
  {
   "cell_type": "code",
   "execution_count": 12,
   "id": "68b54c28",
   "metadata": {},
   "outputs": [
    {
     "data": {
      "text/plain": [
       "'i am huzaifa waseem and i live in north karachi'"
      ]
     },
     "execution_count": 12,
     "metadata": {},
     "output_type": "execute_result"
    }
   ],
   "source": [
    "a.lower()\n"
   ]
  },
  {
   "cell_type": "code",
   "execution_count": 22,
   "id": "25032c12",
   "metadata": {},
   "outputs": [
    {
     "data": {
      "text/plain": [
       "46"
      ]
     },
     "execution_count": 22,
     "metadata": {},
     "output_type": "execute_result"
    }
   ],
   "source": [
    "a.find(\"i\",32)"
   ]
  },
  {
   "cell_type": "code",
   "execution_count": 17,
   "id": "e5c0ac26",
   "metadata": {},
   "outputs": [
    {
     "data": {
      "text/plain": [
       "20"
      ]
     },
     "execution_count": 17,
     "metadata": {},
     "output_type": "execute_result"
    }
   ],
   "source": [
    "a.find(\"and\")"
   ]
  },
  {
   "cell_type": "code",
   "execution_count": 27,
   "id": "6cf36482",
   "metadata": {},
   "outputs": [
    {
     "data": {
      "text/plain": [
       "'i am huzaifa waseem and i live in north karachi'"
      ]
     },
     "execution_count": 27,
     "metadata": {},
     "output_type": "execute_result"
    }
   ],
   "source": [
    "a.casefold()"
   ]
  },
  {
   "cell_type": "code",
   "execution_count": 29,
   "id": "3e3660c9",
   "metadata": {},
   "outputs": [
    {
     "data": {
      "text/plain": [
       "5"
      ]
     },
     "execution_count": 29,
     "metadata": {},
     "output_type": "execute_result"
    }
   ],
   "source": [
    "a.index(\"Huzaifa\")"
   ]
  },
  {
   "cell_type": "code",
   "execution_count": 31,
   "id": "be215802",
   "metadata": {},
   "outputs": [],
   "source": [
    "# isalpha  # check whether it is alphabet aur not and result is trueand false"
   ]
  },
  {
   "cell_type": "code",
   "execution_count": 32,
   "id": "26ce8e22",
   "metadata": {},
   "outputs": [],
   "source": [
    "Country = \" Pakistan \""
   ]
  },
  {
   "cell_type": "code",
   "execution_count": 36,
   "id": "0ccec2ff",
   "metadata": {},
   "outputs": [
    {
     "data": {
      "text/plain": [
       "'Pakistan '"
      ]
     },
     "execution_count": 36,
     "metadata": {},
     "output_type": "execute_result"
    }
   ],
   "source": [
    "Country.lstrip()  # srf left wali ke space khtam krega\n",
    "# Country.rstrip() # right walay ke space khtam\n",
    "# Country.strip()  #both space khtam krega "
   ]
  },
  {
   "cell_type": "code",
   "execution_count": 37,
   "id": "063883ea",
   "metadata": {},
   "outputs": [
    {
     "ename": "SyntaxError",
     "evalue": "invalid syntax (Temp/ipykernel_9872/1756819464.py, line 1)",
     "output_type": "error",
     "traceback": [
      "\u001b[1;36m  File \u001b[1;32m\"C:\\Users\\LAB01R~1\\AppData\\Local\\Temp/ipykernel_9872/1756819464.py\"\u001b[1;36m, line \u001b[1;32m1\u001b[0m\n\u001b[1;33m    string is iterable but it is immutable  # iterable ka mtlb has alg alg character ko istemal krsktay hain # immutable means cannot change orignal value\u001b[0m\n\u001b[1;37m                       ^\u001b[0m\n\u001b[1;31mSyntaxError\u001b[0m\u001b[1;31m:\u001b[0m invalid syntax\n"
     ]
    }
   ],
   "source": [
    "# string is iterable but it is immutable  # iterable ka mtlb has alg alg character ko istemal krsktay hain # immutable means cannot change orignal value\n",
    "\n"
   ]
  },
  {
   "cell_type": "code",
   "execution_count": null,
   "id": "0ccd6041",
   "metadata": {},
   "outputs": [],
   "source": [
    "Join"
   ]
  },
  {
   "cell_type": "code",
   "execution_count": 42,
   "id": "be9e80d9",
   "metadata": {},
   "outputs": [
    {
     "name": "stdout",
     "output_type": "stream",
     "text": [
      "Hello  huzaifa  , Welcome to the  Python crash program \n"
     ]
    }
   ],
   "source": [
    "abc = \" huzaifa \"\n",
    "\n",
    "print(\"Hello {} , Welcome to the  Python crash program \". format(abc))\n"
   ]
  },
  {
   "cell_type": "markdown",
   "id": "a1626e23",
   "metadata": {},
   "source": [
    "### Exercise 1"
   ]
  },
  {
   "cell_type": "code",
   "execution_count": 50,
   "id": "a8478ad6",
   "metadata": {},
   "outputs": [
    {
     "ename": "SyntaxError",
     "evalue": "unexpected character after line continuation character (Temp/ipykernel_1500/4254663586.py, line 11)",
     "output_type": "error",
     "traceback": [
      "\u001b[1;36m  File \u001b[1;32m\"C:\\Users\\LAB01R~1\\AppData\\Local\\Temp/ipykernel_1500/4254663586.py\"\u001b[1;36m, line \u001b[1;32m11\u001b[0m\n\u001b[1;33m    print(\\t abc  )\u001b[0m\n\u001b[1;37m                  ^\u001b[0m\n\u001b[1;31mSyntaxError\u001b[0m\u001b[1;31m:\u001b[0m unexpected character after line continuation character\n"
     ]
    }
   ],
   "source": [
    "\n",
    "\n",
    "abc = \" huzaifa \"\n",
    "\n",
    "print(f\"Hello {abc} , Welcome to the  Python crash program \")\n",
    "\n",
    "print(abc.lower())\n",
    "print(abc.upper())\n",
    "print(abc.capitalize())\n",
    "print(abc.lstrip())\n",
    "print(abc.rstrip())\n",
    "print(abc.strip())\n"
   ]
  },
  {
   "cell_type": "code",
   "execution_count": 41,
   "id": "3aad964a",
   "metadata": {},
   "outputs": [
    {
     "name": "stdout",
     "output_type": "stream",
     "text": [
      "Albert Einstein once said ,\"A person who never made a \n",
      "mistake never  tried anything new\"\n"
     ]
    }
   ],
   "source": [
    "print('Albert Einstein once said ,\"A person who never made a \\nmistake never  tried anything new\"' )"
   ]
  },
  {
   "cell_type": "markdown",
   "id": "ef6cac2b",
   "metadata": {},
   "source": [
    "## More on operators\n"
   ]
  },
  {
   "cell_type": "markdown",
   "id": "69eb591b",
   "metadata": {},
   "source": [
    "= assignment \n",
    "== equals to \n",
    "!= not equals to\n",
    "** not equal to \n",
    "% modulus\n",
    "> gretaer than\n",
    "< less than \n",
    ">= greter than equal to \n",
    "<= less than equal to \n",
    "and  (logical and )\n",
    "or ( logical or)"
   ]
  },
  {
   "cell_type": "code",
   "execution_count": 54,
   "id": "66a949de",
   "metadata": {},
   "outputs": [
    {
     "data": {
      "text/plain": [
       "True"
      ]
     },
     "execution_count": 54,
     "metadata": {},
     "output_type": "execute_result"
    }
   ],
   "source": [
    "a=2\n",
    "b=4 \n",
    "a==b\n",
    "a!=b"
   ]
  },
  {
   "cell_type": "code",
   "execution_count": 55,
   "id": "7ba6baae",
   "metadata": {},
   "outputs": [
    {
     "data": {
      "text/plain": [
       "1"
      ]
     },
     "execution_count": 55,
     "metadata": {},
     "output_type": "execute_result"
    }
   ],
   "source": [
    "10%3"
   ]
  },
  {
   "cell_type": "code",
   "execution_count": 56,
   "id": "2604c401",
   "metadata": {},
   "outputs": [
    {
     "data": {
      "text/plain": [
       "0"
      ]
     },
     "execution_count": 56,
     "metadata": {},
     "output_type": "execute_result"
    }
   ],
   "source": [
    "9%3"
   ]
  },
  {
   "cell_type": "markdown",
   "id": "9806a5b5",
   "metadata": {},
   "source": [
    "## Logcal and logical or \n",
    "\n",
    "\n",
    "R1        R2          or         and\n",
    "T          T         T           T \n",
    "T          F         T            F\n",
    "F          T         T            F\n",
    "F          F         F            F\n"
   ]
  },
  {
   "cell_type": "code",
   "execution_count": 60,
   "id": "7b5b22d3",
   "metadata": {},
   "outputs": [
    {
     "data": {
      "text/plain": [
       "True"
      ]
     },
     "execution_count": 60,
     "metadata": {},
     "output_type": "execute_result"
    }
   ],
   "source": [
    "10>5 or 5<2 "
   ]
  },
  {
   "cell_type": "code",
   "execution_count": 61,
   "id": "3c249d6b",
   "metadata": {},
   "outputs": [
    {
     "data": {
      "text/plain": [
       "False"
      ]
     },
     "execution_count": 61,
     "metadata": {},
     "output_type": "execute_result"
    }
   ],
   "source": [
    "10>5 and  5<2"
   ]
  },
  {
   "cell_type": "markdown",
   "id": "a9e8e26d",
   "metadata": {},
   "source": [
    "## If statement "
   ]
  },
  {
   "cell_type": "code",
   "execution_count": 7,
   "id": "39cf516d",
   "metadata": {},
   "outputs": [
    {
     "name": "stdout",
     "output_type": "stream",
     "text": [
      "Enter a number of your choice 2\n",
      "Enter another number2\n",
      "Number 2 is equal to number 2\n"
     ]
    }
   ],
   "source": [
    "num1=int(input(\"Enter a number of your choice \"))\n",
    "num2=int(input(\"Enter another number\"))\n",
    "if num1==num2:\n",
    "    print(f\"Number {num1} is equal to number {num2}\")\n",
    "    \n",
    "else:   \n",
    "    print(\" {} is not equal to {} \")\n"
   ]
  },
  {
   "cell_type": "code",
   "execution_count": null,
   "id": "9ad875f2",
   "metadata": {},
   "outputs": [],
   "source": [
    "num1=int(input(\"Enter a number of your choice \"))\n",
    "num2=int(input(\"Enter another number\"))\n",
    "if num1==num2:\n",
    "    print(f\"Number {num1} is equal to number {num2}\")\n",
    "    \n",
    "elif num1>num2:\n",
    "         print(f\"{num1} is greater than  {num2} \")\n",
    "elif num1<num2:\n",
    "        print (f\"{num1} is less  than  {num2} \")\n",
    "else:\n",
    "    \n",
    "    print(\" Number doesnot exist\")\n",
    "    "
   ]
  },
  {
   "cell_type": "code",
   "execution_count": 7,
   "id": "d53f7e1b",
   "metadata": {},
   "outputs": [
    {
     "name": "stdout",
     "output_type": "stream",
     "text": [
      "Enter Number 21\n",
      "it is divisble by 7\n"
     ]
    }
   ],
   "source": [
    "num=int(input(\"Enter Number : \"))\n",
    "\n",
    "if num % 5 ==0:\n",
    "    print(\"it is divisble by 5\")\n",
    "\n",
    "elif num % 7 == 0:\n",
    "    print(\"it is divisble by 7\")\n",
    "else:\n",
    "    print(f\"{num} is not divisible by 5 or 7\")\n",
    "\n"
   ]
  },
  {
   "cell_type": "code",
   "execution_count": 9,
   "id": "312a29b6",
   "metadata": {},
   "outputs": [
    {
     "name": "stdout",
     "output_type": "stream",
     "text": [
      "\n",
      "Twinkle, twinkle, little star,\n",
      "\tHow I wonder what you are! \n",
      "\t\tUp above the world so high,   \t\t\n",
      "\t\tLike a diamond in the sky. \n",
      "Twinkle, twinkle, little star, \n",
      "\tHow I wonder what you are\n",
      "\n"
     ]
    }
   ],
   "source": [
    "print('''\n",
    "Twinkle, twinkle, little star,\n",
    "\tHow I wonder what you are! \n",
    "\t\tUp above the world so high,   \t\t\n",
    "\t\tLike a diamond in the sky. \n",
    "Twinkle, twinkle, little star, \n",
    "\tHow I wonder what you are\n",
    "''')"
   ]
  },
  {
   "cell_type": "code",
   "execution_count": 2,
   "id": "3f8ea568",
   "metadata": {},
   "outputs": [
    {
     "name": "stdout",
     "output_type": "stream",
     "text": [
      "Enter Number : 9\n",
      "9 is not divisible by 5 or 7\n"
     ]
    }
   ],
   "source": [
    "num=int(input(\"Enter Number : \"))\n",
    "\n",
    "if (num%5==0) or (num%7==0):\n",
    "    print(f\"{num} is divisible by 5 or 7\")\n",
    "    \n",
    "else:\n",
    "    print(f\"{num} is not divisible by 5 or 7\")"
   ]
  },
  {
   "cell_type": "markdown",
   "id": "bd319201",
   "metadata": {},
   "source": [
    "## Class 5 23-May"
   ]
  },
  {
   "cell_type": "code",
   "execution_count": null,
   "id": "68d5c1fc",
   "metadata": {},
   "outputs": [],
   "source": [
    "\n",
    "Student_name = input(\"Enter Student name :\")\n",
    "Num1 = float(input(\" Enter Physics mark :\"))\n",
    "Num2 = (float(input(\" Enter Maths mark :\")))\n",
    "Num3 = (float(input(\" Enter Chem mark :\")))\n",
    "Num4 = (float(input(\" Enter Comp mark :\")))\n",
    "Num5 = (float(input(\" Enter Urdu mark :\")))\n",
    "\n",
    "Obtained_marks=round( Num1+Num2+Num3+Num4+Num5)\n",
    "\n",
    "percentage = (Obtained_marks/500)*100\n",
    "print(percentage)\n",
    "percentage=round(percentage)\n",
    "grade= None  ### yahan pe grade a variable assign kiya hai\n",
    "\n",
    "if percentage >=80 and percentage < 100:\n",
    "     grade =\"A+\"\n",
    "\n",
    "elif percentage >=70 and percentage < 80:\n",
    "    grade =\"A\"\n",
    "    \n",
    "elif percentage >=60 and percentage < 70:\n",
    "    grade =\"B\"\n",
    "    \n",
    "elif percentage >=50 and percentage < 60:\n",
    "    grade =\"C\"\n",
    "else:\n",
    "    grade =\"F\"\n",
    "    \n",
    "print(f\"\"\"  \n",
    "                      *************************************************************************\n",
    "                      *                      SMIT Training Institute                           *\n",
    "                      *                                                                        *\n",
    "                      **************************************************************************\n",
    "\n",
    "                                      Student name : {Student_name}\n",
    "                                      \n",
    "                                      Physics Marks : {Num1} \n",
    "                                      \n",
    "                                      Mathematics  Marks : {Num2}\n",
    "                                      \n",
    "                                      Chemistry Marks : {Num3}\n",
    "                                      \n",
    "                                      Computer Marks : {Num4}\n",
    "                                      \n",
    "                                      urdu Marks : {Num5}\n",
    "-------------------------------------\n",
    "Obtained marks :{Obtained_marks}     -\n",
    "\n",
    "Percentage : {percentage} %            -\n",
    "\n",
    "Grade : {grade}                      -\n",
    "                                     -\n",
    "--------------------------------------                                     \n",
    "\"\"\")\n",
    " "
   ]
  },
  {
   "cell_type": "markdown",
   "id": "868a03eb",
   "metadata": {},
   "source": [
    "## Nested IF's\n",
    "\n"
   ]
  },
  {
   "cell_type": "code",
   "execution_count": 1,
   "id": "d2f55f56",
   "metadata": {},
   "outputs": [
    {
     "name": "stdout",
     "output_type": "stream",
     "text": [
      "Enter your username :huzaifa \n",
      " username doesnot exist\n"
     ]
    }
   ],
   "source": [
    "user_name =\"huzaifa abha\"\n",
    "pass_word =\"123\"\n",
    "\n",
    "username= input(\"Enter your username :\")\n",
    "\n",
    "\n",
    "if username == user_name :\n",
    "    password= input(\"Enter your Password :\")\n",
    "    \n",
    "    if password == pass_word:\n",
    "        print(\"Login Approved\")\n",
    "    else:\n",
    "        print(\"Wrong password\")\n",
    "else:\n",
    "    print(\" username doesnot exist\")"
   ]
  },
  {
   "cell_type": "code",
   "execution_count": null,
   "id": "95e0a56d",
   "metadata": {},
   "outputs": [],
   "source": [
    "user_name =\"huzaifa abha\"\n",
    "pass_word =\"123\"\n",
    "\n",
    "username= input(\"Enter your username :\")\n",
    "\n",
    "\n",
    "if username == user_name :\n",
    "    password= input(\"Enter your Password :\")\n",
    "    \n",
    "    if password == pass_word:\n",
    "        \n",
    "        print(\"Login Approved\")\n",
    "        \n",
    "        Student_name = input(\"Enter Student name :\")\n",
    "        Num1 = float(input(\" Enter Physics mark :\"))\n",
    "        Num2 = (float(input(\" Enter Maths mark :\")))\n",
    "        Num3 = (float(input(\" Enter Chem mark :\")))\n",
    "        Num4 = (float(input(\" Enter Comp mark :\")))\n",
    "        Num5 = (float(input(\" Enter Urdu mark :\")))\n",
    "\n",
    "        Obtained_marks=round( Num1+Num2+Num3+Num4+Num5)\n",
    "\n",
    "        percentage = (Obtained_marks/500)*100\n",
    "        print(percentage)\n",
    "        percentage=round(percentage)\n",
    "        grade= None  ### yahan pe grade a variable assign kiya hai\n",
    "\n",
    "        if percentage >=80 and percentage < 100:\n",
    "                grade =\"A+\"\n",
    "\n",
    "        elif percentage >=70 and percentage < 80:\n",
    "                grade =\"A\"\n",
    "    \n",
    "        elif percentage >=60 and percentage < 70:\n",
    "               grade =\"B\"\n",
    "     \n",
    "        elif percentage >=50 and percentage < 60:\n",
    "                grade =\"C\"\n",
    "        else:\n",
    "                grade =\"F\"\n",
    "    \n",
    "        print(f\"\"\"  \n",
    "                      *************************************************************************\n",
    "                      *                      SMIT Training Institute                           *\n",
    "                      *                                                                        *\n",
    "                      **************************************************************************\n",
    "\n",
    "                                      Student name : {Student_name}\n",
    "                                      \n",
    "                                      Physics Marks : {Num1} \n",
    "                                      \n",
    "                                      Mathematics  Marks : {Num2}\n",
    "                                      \n",
    "                                      Chemistry Marks : {Num3}\n",
    "                                      \n",
    "                                      Computer Marks : {Num4}\n",
    "                                      \n",
    "                                      urdu Marks : {Num5}\n",
    "                                      -------------------------------------\n",
    "                                 Obtained marks :{Obtained_marks}     -\n",
    "\n",
    "                                 Percentage : {percentage} %            -\n",
    "\n",
    "                                 Grade : {grade}                      -\n",
    "                                     -\n",
    "                                  --------------------------------------                                     \n",
    "              \"\"\")\n",
    "       \n",
    "    else:\n",
    "        print(\"Wrong password\")\n",
    "else:\n",
    "    print(\"Wrong user name \")\n",
    "    "
   ]
  },
  {
   "cell_type": "code",
   "execution_count": 122,
   "id": "2a3fbfd9",
   "metadata": {},
   "outputs": [
    {
     "ename": "SyntaxError",
     "evalue": "invalid syntax (Temp/ipykernel_7428/3079818537.py, line 3)",
     "output_type": "error",
     "traceback": [
      "\u001b[1;36m  File \u001b[1;32m\"C:\\Users\\LAB02R~1\\AppData\\Local\\Temp/ipykernel_7428/3079818537.py\"\u001b[1;36m, line \u001b[1;32m3\u001b[0m\n\u001b[1;33m    Ask user for their salary and year of service and print the net bonus amount.\u001b[0m\n\u001b[1;37m        ^\u001b[0m\n\u001b[1;31mSyntaxError\u001b[0m\u001b[1;31m:\u001b[0m invalid syntax\n"
     ]
    }
   ],
   "source": [
    "\n",
    "\n",
    "# ## Assignment \n",
    "# 1) A company decided to give bonus of 5% to employee if his/her year of service is more than 5 years.\n",
    "Ask user for their salary and year of service and print the net bonus amount.\n",
    "# In[9]:\n",
    "\n",
    "\n",
    "Salary = int(input(\"Enter your salary : \"))\n",
    "Service_year = int(input(\"Enter your Service year : \"))\n",
    "New_salary = None \n",
    "if Service_year > 5:\n",
    "    New_salary= Salary + Salary * 0.05\n",
    "    print(f\"your new salary is {New_salary}\")\n",
    "else:\n",
    "    print(f\"you salary is {Salary} and you are not eligible for bonus\")\n",
    "    \n",
    "\n",
    "\n",
    "# In[ ]:\n",
    "\n",
    "\n",
    "#2 Write a program to check whether a person is eligible for voting or not. (accept age from user\n",
    "\n",
    "\n",
    "# In[10]:\n",
    "\n",
    "\n",
    "Age= int(input(\"Enter your age : \"))\n",
    "\n",
    "if Age >=18 :\n",
    "    print(\" You are Eligible for voting \")\n",
    "else:\n",
    "    print(\" Your are not Eligible for vote \")\n",
    "\n",
    "#Q8. Write a program to calculate the electricity bill (accept number of unit from user) according to the following criteria :\n",
    "             Unit                                                     Price  \n",
    "First 100 units                                               no charge\n",
    "Next 100 units                                              Rs 5 per unit\n",
    "After 200 units                                             Rs 10 per unit\n",
    "(For example if input unit is 350 than total bill amount is Rs2000)\n",
    "\n",
    "# In[16]:\n",
    "\n",
    "\n",
    "units=int(input(\"Enter your bills unit \"))\n",
    "a=0\n",
    "b=0\n",
    "c=0\n",
    "if units >0 and units < 100 :\n",
    "    a=units*10\n",
    "    total=a\n",
    "elif units > 100 and units <200:\n",
    "    \n",
    "    b = (units-100)*20\n",
    "    a=100*10\n",
    "    total = a+b\n",
    "\n",
    "elif units>200:\n",
    "    c = (units -200)\n",
    "    c1=c*30\n",
    "\n",
    "    d=(units-c)\n",
    "    e=(d-100)*20\n",
    "    e1 =(d-100)*10\n",
    "    #b = 100*20\n",
    "    #a=100*10\n",
    "    total = c1+e+e1\n",
    "    \n",
    "else:\n",
    "    print(\"\")\n",
    "    \n",
    "print(total)\n",
    "    \n",
    "    \n",
    "\n",
    "\n",
    "# In[ ]:\n",
    "\n",
    "\n",
    "9 ) Write a program to display the last digit of a number.\n",
    "(hint : any number % 10 will return the last digit)\n",
    "\n",
    "\n",
    "# In[27]:\n",
    "\n",
    "\n",
    "#a=int(input(\"Enter number :\"))\n",
    "#b=repr(a)\n",
    "#c=b[-1]\n",
    "#d=int(c)\n",
    "#print(d)\n",
    "\n",
    "a=int(input(\"Enter number :\"))\n",
    "\n",
    "last_digit= a%10\n",
    "\n",
    "if last_digit %3==0:\n",
    "    print(f\"{last_digit} is last digit and  It is divisible by 3\")\n",
    "\n",
    "\n",
    "# In[1]:\n",
    "\n",
    "\n",
    "#12) Take two int values from user and print greatest among them.\n",
    "\n",
    "num1=int(input(\"Enter number 1 :\"))\n",
    "num2=int(input(\"Enter number 2 :\"))\n",
    "if num1>num2 :\n",
    "    print(\" num1 is greater than num2\")\n",
    "else:\n",
    "    print(\"num2 is greater \")\n",
    "\n",
    "14) A shop will give discount of 10% if the cost of purchased quantity is more than 1000.\n",
    "Ask user for quantity\n",
    "Suppose, one unit will cost 100.\n",
    "Judge and print total cost for user.\n",
    "# In[5]:\n",
    "\n",
    "\n",
    "quantity = int(input(\"Enter number of quantity :\"))\n",
    "per_unit_cost = 100\n",
    "total_cost =quantity*per_unit_cost\n",
    "new_cost =0\n",
    "if total_cost>1000:\n",
    "    new_cost = total_cost - (total_cost*0.10)\n",
    "    print(f\"your new cost is {new_cost}\")\n",
    "else:\n",
    "    print(f\"your cost  is {total_cost} \")\n",
    "\n",
    "\n",
    "# In[ ]:\n",
    "\n",
    "\n",
    "#16) Take input of age of 3 people by user and determine oldest and youngest among them.\n",
    "\n",
    "Age1 = int(input(\"Enter Age1 :\"))\n",
    "Age2 = int(input(\"Enter Age2 :\"))\n",
    "Age3 = int(input(\"Enter Age3 :\"))\n",
    "\n",
    "if Age1>Age2 and Age1>Age2:\n",
    "    print(person1 age is greater than people 2 and people 3)\n",
    "\n"
   ]
  },
  {
   "cell_type": "markdown",
   "id": "11fc899b",
   "metadata": {},
   "source": [
    "## Class 8 "
   ]
  },
  {
   "cell_type": "markdown",
   "id": "6eae07dd",
   "metadata": {},
   "source": [
    "## Python data Structure \n"
   ]
  },
  {
   "cell_type": "code",
   "execution_count": 3,
   "id": "d378d068",
   "metadata": {},
   "outputs": [],
   "source": [
    "# List \n",
    "\n",
    "Courses = []\n"
   ]
  },
  {
   "cell_type": "code",
   "execution_count": 4,
   "id": "a991db2c",
   "metadata": {},
   "outputs": [],
   "source": [
    "Students=[\"huzaifa\" ,\"Waseem\" ,\"ahmed \"]\n",
    "#index       0          1         2\n",
    "#index       -3         -2        -1\n",
    "\n",
    "# - Index isliye use houta hai ke last digit ko call krwana ho yaa , last ke 10 ko call krwana ho"
   ]
  },
  {
   "cell_type": "code",
   "execution_count": 8,
   "id": "03c3621a",
   "metadata": {},
   "outputs": [
    {
     "data": {
      "text/plain": [
       "('huzaifa', 'Waseem')"
      ]
     },
     "execution_count": 8,
     "metadata": {},
     "output_type": "execute_result"
    }
   ],
   "source": [
    "Students[0] , Students[-2]"
   ]
  },
  {
   "cell_type": "code",
   "execution_count": 9,
   "id": "4cb85f3e",
   "metadata": {},
   "outputs": [],
   "source": [
    "Students[0]=\"abha\"\n"
   ]
  },
  {
   "cell_type": "code",
   "execution_count": 10,
   "id": "d75b9869",
   "metadata": {},
   "outputs": [
    {
     "data": {
      "text/plain": [
       "'abha'"
      ]
     },
     "execution_count": 10,
     "metadata": {},
     "output_type": "execute_result"
    }
   ],
   "source": [
    "Students[0]\n"
   ]
  },
  {
   "cell_type": "code",
   "execution_count": 12,
   "id": "e03ffadd",
   "metadata": {},
   "outputs": [
    {
     "data": {
      "text/plain": [
       "['abha', 'Waseem', 'ahmed ']"
      ]
     },
     "execution_count": 12,
     "metadata": {},
     "output_type": "execute_result"
    }
   ],
   "source": [
    "Students"
   ]
  },
  {
   "cell_type": "code",
   "execution_count": 13,
   "id": "f8f4f2d7",
   "metadata": {},
   "outputs": [],
   "source": [
    "#### Crud ( Create , Retrieve , update , Delete ) "
   ]
  },
  {
   "cell_type": "code",
   "execution_count": 14,
   "id": "5958a103",
   "metadata": {},
   "outputs": [],
   "source": [
    "SMIT = [\"AI\" , \"DS\" , \"Web\"]"
   ]
  },
  {
   "cell_type": "code",
   "execution_count": 15,
   "id": "5cf237ed",
   "metadata": {},
   "outputs": [
    {
     "data": {
      "text/plain": [
       "[' AI', 'DS', 'Web']"
      ]
     },
     "execution_count": 15,
     "metadata": {},
     "output_type": "execute_result"
    }
   ],
   "source": [
    "SMIT \n"
   ]
  },
  {
   "cell_type": "code",
   "execution_count": 16,
   "id": "fd24d593",
   "metadata": {},
   "outputs": [],
   "source": [
    "del SMIT[2]"
   ]
  },
  {
   "cell_type": "code",
   "execution_count": 17,
   "id": "905529ba",
   "metadata": {},
   "outputs": [
    {
     "data": {
      "text/plain": [
       "[' AI', 'DS']"
      ]
     },
     "execution_count": 17,
     "metadata": {},
     "output_type": "execute_result"
    }
   ],
   "source": [
    "SMIT\n"
   ]
  },
  {
   "cell_type": "code",
   "execution_count": 23,
   "id": "07559553",
   "metadata": {},
   "outputs": [],
   "source": [
    "misclist =[SMIT,Students, False ]"
   ]
  },
  {
   "cell_type": "code",
   "execution_count": 24,
   "id": "fedd39d4",
   "metadata": {},
   "outputs": [
    {
     "data": {
      "text/plain": [
       "[[' AI', 'DS'], ['abha', 'Waseem', 'ahmed '], False]"
      ]
     },
     "execution_count": 24,
     "metadata": {},
     "output_type": "execute_result"
    }
   ],
   "source": [
    "misclist\n",
    "\n"
   ]
  },
  {
   "cell_type": "raw",
   "id": "32a6ed9c",
   "metadata": {},
   "source": [
    "Courses.append #append is used for adding new object"
   ]
  },
  {
   "cell_type": "code",
   "execution_count": 25,
   "id": "84d9d47a",
   "metadata": {},
   "outputs": [],
   "source": [
    "misclist.append(\"hello\")"
   ]
  },
  {
   "cell_type": "code",
   "execution_count": 26,
   "id": "2837a97b",
   "metadata": {},
   "outputs": [
    {
     "data": {
      "text/plain": [
       "[[' AI', 'DS'], ['abha', 'Waseem', 'ahmed '], False, 'hello']"
      ]
     },
     "execution_count": 26,
     "metadata": {},
     "output_type": "execute_result"
    }
   ],
   "source": [
    "misclist\n"
   ]
  },
  {
   "cell_type": "code",
   "execution_count": 27,
   "id": "f4364bd1",
   "metadata": {},
   "outputs": [],
   "source": [
    "misclist.insert(2, \" huz\")"
   ]
  },
  {
   "cell_type": "code",
   "execution_count": 28,
   "id": "714422a5",
   "metadata": {},
   "outputs": [
    {
     "data": {
      "text/plain": [
       "[[' AI', 'DS'], ['abha', 'Waseem', 'ahmed '], ' huz', False, 'hello']"
      ]
     },
     "execution_count": 28,
     "metadata": {},
     "output_type": "execute_result"
    }
   ],
   "source": [
    "misclist"
   ]
  },
  {
   "cell_type": "code",
   "execution_count": 31,
   "id": "d65e79ba",
   "metadata": {},
   "outputs": [],
   "source": [
    "abha = misclist.pop(-2)   # variable me store kiy hai "
   ]
  },
  {
   "cell_type": "code",
   "execution_count": 30,
   "id": "14f5123c",
   "metadata": {},
   "outputs": [
    {
     "data": {
      "text/plain": [
       "[[' AI', 'DS'], ['abha', 'Waseem', 'ahmed '], ' huz', 'hello']"
      ]
     },
     "execution_count": 30,
     "metadata": {},
     "output_type": "execute_result"
    }
   ],
   "source": [
    "misclist"
   ]
  },
  {
   "cell_type": "code",
   "execution_count": 32,
   "id": "72f23fa1",
   "metadata": {},
   "outputs": [
    {
     "data": {
      "text/plain": [
       "' huz'"
      ]
     },
     "execution_count": 32,
     "metadata": {},
     "output_type": "execute_result"
    }
   ],
   "source": [
    "abha"
   ]
  },
  {
   "cell_type": "code",
   "execution_count": 41,
   "id": "394df799",
   "metadata": {},
   "outputs": [],
   "source": [
    "misclist.remove(\"hello\")\n"
   ]
  },
  {
   "cell_type": "code",
   "execution_count": 42,
   "id": "ea0f157f",
   "metadata": {},
   "outputs": [
    {
     "data": {
      "text/plain": [
       "[[' AI', 'DS'], ['abha', 'Waseem', 'ahmed ']]"
      ]
     },
     "execution_count": 42,
     "metadata": {},
     "output_type": "execute_result"
    }
   ],
   "source": [
    "misclist\n"
   ]
  },
  {
   "cell_type": "code",
   "execution_count": 43,
   "id": "17447df4",
   "metadata": {},
   "outputs": [],
   "source": [
    "misclist.remove(Students)"
   ]
  },
  {
   "cell_type": "code",
   "execution_count": 44,
   "id": "33731e0d",
   "metadata": {},
   "outputs": [
    {
     "data": {
      "text/plain": [
       "[[' AI', 'DS']]"
      ]
     },
     "execution_count": 44,
     "metadata": {},
     "output_type": "execute_result"
    }
   ],
   "source": [
    "misclist"
   ]
  },
  {
   "cell_type": "code",
   "execution_count": 47,
   "id": "3699ffb5",
   "metadata": {},
   "outputs": [
    {
     "data": {
      "text/plain": [
       "[]"
      ]
     },
     "execution_count": 47,
     "metadata": {},
     "output_type": "execute_result"
    }
   ],
   "source": [
    "Students"
   ]
  },
  {
   "cell_type": "code",
   "execution_count": 46,
   "id": "28a72cbf",
   "metadata": {},
   "outputs": [
    {
     "data": {
      "text/plain": [
       "[]"
      ]
     },
     "execution_count": 46,
     "metadata": {},
     "output_type": "execute_result"
    }
   ],
   "source": [
    "Students"
   ]
  },
  {
   "cell_type": "raw",
   "id": "306abfe6",
   "metadata": {},
   "source": [
    "#Important for exam \n",
    "\n",
    "#pass by reference  ( Isme ref/address trnasfer houta hai)  val 1= value2  \n",
    "\n",
    "#pass by value ( Isme value ke through save krwayengay)"
   ]
  },
  {
   "cell_type": "code",
   "execution_count": 50,
   "id": "48f830b2",
   "metadata": {},
   "outputs": [],
   "source": [
    "new_misclist= misclist.copy()  ## pass by value ke through copy kiya hai jiski waja se miscslist me koi chiz update hogi tou wo micslist me update nai hogi"
   ]
  },
  {
   "cell_type": "code",
   "execution_count": 51,
   "id": "bb565446",
   "metadata": {},
   "outputs": [
    {
     "data": {
      "text/plain": [
       "[[' AI', 'DS']]"
      ]
     },
     "execution_count": 51,
     "metadata": {},
     "output_type": "execute_result"
    }
   ],
   "source": [
    "new_misclist"
   ]
  },
  {
   "cell_type": "code",
   "execution_count": 52,
   "id": "dae00248",
   "metadata": {},
   "outputs": [],
   "source": [
    "misclist.append(\"abha\")"
   ]
  },
  {
   "cell_type": "code",
   "execution_count": 53,
   "id": "fda4a7bb",
   "metadata": {},
   "outputs": [
    {
     "data": {
      "text/plain": [
       "[[' AI', 'DS']]"
      ]
     },
     "execution_count": 53,
     "metadata": {},
     "output_type": "execute_result"
    }
   ],
   "source": [
    "new_misclist"
   ]
  },
  {
   "cell_type": "code",
   "execution_count": 57,
   "id": "b72a1a04",
   "metadata": {},
   "outputs": [
    {
     "data": {
      "text/plain": [
       "0"
      ]
     },
     "execution_count": 57,
     "metadata": {},
     "output_type": "execute_result"
    }
   ],
   "source": [
    "misclist.count(\"DS\")"
   ]
  },
  {
   "cell_type": "code",
   "execution_count": 72,
   "id": "8c7e691b",
   "metadata": {},
   "outputs": [],
   "source": [
    "cars =[\"honda\", \"toyota\" , \"Changan\"]\n"
   ]
  },
  {
   "cell_type": "code",
   "execution_count": 73,
   "id": "432067d0",
   "metadata": {},
   "outputs": [
    {
     "data": {
      "text/plain": [
       "['honda', 'toyota', 'Changan']"
      ]
     },
     "execution_count": 73,
     "metadata": {},
     "output_type": "execute_result"
    }
   ],
   "source": [
    "cars\n"
   ]
  },
  {
   "cell_type": "code",
   "execution_count": 74,
   "id": "4f4a1503",
   "metadata": {},
   "outputs": [],
   "source": [
    "my_cars = cars.copy()"
   ]
  },
  {
   "cell_type": "code",
   "execution_count": 75,
   "id": "55f4f489",
   "metadata": {},
   "outputs": [],
   "source": [
    "my_cars.append(\"zz\")"
   ]
  },
  {
   "cell_type": "code",
   "execution_count": 76,
   "id": "cd9d6148",
   "metadata": {},
   "outputs": [],
   "source": [
    "my_cars.append(\" lexus\")"
   ]
  },
  {
   "cell_type": "code",
   "execution_count": 77,
   "id": "9a241cce",
   "metadata": {},
   "outputs": [
    {
     "data": {
      "text/plain": [
       "['honda', 'toyota', 'Changan']"
      ]
     },
     "execution_count": 77,
     "metadata": {},
     "output_type": "execute_result"
    }
   ],
   "source": [
    "cars"
   ]
  },
  {
   "cell_type": "code",
   "execution_count": 78,
   "id": "c510bbd1",
   "metadata": {},
   "outputs": [],
   "source": [
    "my_cars.append(cars)"
   ]
  },
  {
   "cell_type": "code",
   "execution_count": 79,
   "id": "3820fe59",
   "metadata": {},
   "outputs": [
    {
     "data": {
      "text/plain": [
       "['honda', 'toyota', 'Changan', 'zz', ' lexus', ['honda', 'toyota', 'Changan']]"
      ]
     },
     "execution_count": 79,
     "metadata": {},
     "output_type": "execute_result"
    }
   ],
   "source": [
    "my_cars"
   ]
  },
  {
   "cell_type": "code",
   "execution_count": 80,
   "id": "c509ec81",
   "metadata": {},
   "outputs": [],
   "source": [
    "my_cars.extend(cars)"
   ]
  },
  {
   "cell_type": "code",
   "execution_count": 81,
   "id": "a057085b",
   "metadata": {},
   "outputs": [
    {
     "data": {
      "text/plain": [
       "['honda',\n",
       " 'toyota',\n",
       " 'Changan',\n",
       " 'zz',\n",
       " ' lexus',\n",
       " ['honda', 'toyota', 'Changan'],\n",
       " 'honda',\n",
       " 'toyota',\n",
       " 'Changan']"
      ]
     },
     "execution_count": 81,
     "metadata": {},
     "output_type": "execute_result"
    }
   ],
   "source": [
    "my_cars"
   ]
  },
  {
   "cell_type": "code",
   "execution_count": 84,
   "id": "3d11e1c1",
   "metadata": {},
   "outputs": [
    {
     "data": {
      "text/plain": [
       "['honda', 'toyota', 'Changan']"
      ]
     },
     "execution_count": 84,
     "metadata": {},
     "output_type": "execute_result"
    }
   ],
   "source": [
    "my_cars.pop(5) # pop value deta hai delte krnay ke baad"
   ]
  },
  {
   "cell_type": "code",
   "execution_count": 85,
   "id": "077fcfa0",
   "metadata": {},
   "outputs": [
    {
     "data": {
      "text/plain": [
       "['honda', 'toyota', 'Changan', 'zz', ' lexus', 'honda', 'toyota', 'Changan']"
      ]
     },
     "execution_count": 85,
     "metadata": {},
     "output_type": "execute_result"
    }
   ],
   "source": [
    "my_cars"
   ]
  },
  {
   "cell_type": "code",
   "execution_count": 88,
   "id": "2fbdd6f6",
   "metadata": {},
   "outputs": [],
   "source": [
    "my_cars.sort()"
   ]
  },
  {
   "cell_type": "code",
   "execution_count": 89,
   "id": "2be91a2b",
   "metadata": {},
   "outputs": [
    {
     "data": {
      "text/plain": [
       "[' lexus', 'Changan', 'Changan', 'honda', 'honda', 'toyota', 'toyota', 'zz']"
      ]
     },
     "execution_count": 89,
     "metadata": {},
     "output_type": "execute_result"
    }
   ],
   "source": [
    "my_cars"
   ]
  },
  {
   "cell_type": "markdown",
   "id": "91b5bde6",
   "metadata": {},
   "source": [
    "# Indexing and Slicing"
   ]
  },
  {
   "cell_type": "code",
   "execution_count": 3,
   "id": "bdc7f490",
   "metadata": {},
   "outputs": [],
   "source": [
    "marks =[90,20,25,204,25,]"
   ]
  },
  {
   "cell_type": "code",
   "execution_count": 4,
   "id": "a0359892",
   "metadata": {},
   "outputs": [
    {
     "data": {
      "text/plain": [
       "204"
      ]
     },
     "execution_count": 4,
     "metadata": {},
     "output_type": "execute_result"
    }
   ],
   "source": [
    "marks[3] #indexing "
   ]
  },
  {
   "cell_type": "code",
   "execution_count": 5,
   "id": "59ceb634",
   "metadata": {},
   "outputs": [
    {
     "data": {
      "text/plain": [
       "[20, 25, 204]"
      ]
     },
     "execution_count": 5,
     "metadata": {},
     "output_type": "execute_result"
    }
   ],
   "source": [
    "marks[1:4]  # less than one tak assign hoga"
   ]
  },
  {
   "cell_type": "code",
   "execution_count": 6,
   "id": "8b50f3a2",
   "metadata": {},
   "outputs": [
    {
     "data": {
      "text/plain": [
       "[25, 204, 25]"
      ]
     },
     "execution_count": 6,
     "metadata": {},
     "output_type": "execute_result"
    }
   ],
   "source": [
    "marks[2:] # no need to assign second number , it will call number "
   ]
  },
  {
   "cell_type": "code",
   "execution_count": 7,
   "id": "de7790aa",
   "metadata": {},
   "outputs": [
    {
     "data": {
      "text/plain": [
       "[90, 20]"
      ]
     },
     "execution_count": 7,
     "metadata": {},
     "output_type": "execute_result"
    }
   ],
   "source": [
    "marks[:2] #no need to assign first number "
   ]
  },
  {
   "cell_type": "code",
   "execution_count": 8,
   "id": "9a57f0cc",
   "metadata": {},
   "outputs": [
    {
     "data": {
      "text/plain": [
       "[90, 20, 25, 204, 25]"
      ]
     },
     "execution_count": 8,
     "metadata": {},
     "output_type": "execute_result"
    }
   ],
   "source": [
    "marks[:] # no need to assign first nad second number , call all list"
   ]
  },
  {
   "cell_type": "code",
   "execution_count": 9,
   "id": "91ef5f54",
   "metadata": {},
   "outputs": [],
   "source": [
    "marks.insert(3,55)"
   ]
  },
  {
   "cell_type": "code",
   "execution_count": 11,
   "id": "b2500ba1",
   "metadata": {},
   "outputs": [
    {
     "data": {
      "text/plain": [
       "[90, 20, 25, 55, 204, 25]"
      ]
     },
     "execution_count": 11,
     "metadata": {},
     "output_type": "execute_result"
    }
   ],
   "source": [
    "marks"
   ]
  },
  {
   "cell_type": "code",
   "execution_count": 12,
   "id": "505cee45",
   "metadata": {},
   "outputs": [],
   "source": [
    "marks.append(12)"
   ]
  },
  {
   "cell_type": "code",
   "execution_count": 13,
   "id": "e8a18836",
   "metadata": {},
   "outputs": [
    {
     "data": {
      "text/plain": [
       "[90, 20, 25, 55, 204, 25, 12]"
      ]
     },
     "execution_count": 13,
     "metadata": {},
     "output_type": "execute_result"
    }
   ],
   "source": [
    "marks\n"
   ]
  },
  {
   "cell_type": "code",
   "execution_count": 103,
   "id": "cc586c04",
   "metadata": {},
   "outputs": [
    {
     "data": {
      "text/plain": [
       "25"
      ]
     },
     "execution_count": 103,
     "metadata": {},
     "output_type": "execute_result"
    }
   ],
   "source": [
    "marks.pop(-2)"
   ]
  },
  {
   "cell_type": "code",
   "execution_count": 111,
   "id": "b7420fbc",
   "metadata": {},
   "outputs": [
    {
     "data": {
      "text/plain": [
       "[20, 25, 55, 204, '10', 10]"
      ]
     },
     "execution_count": 111,
     "metadata": {},
     "output_type": "execute_result"
    }
   ],
   "source": [
    "marks"
   ]
  },
  {
   "cell_type": "code",
   "execution_count": 106,
   "id": "d4898863",
   "metadata": {},
   "outputs": [],
   "source": [
    "del marks[0]"
   ]
  },
  {
   "cell_type": "code",
   "execution_count": 112,
   "id": "135eff79",
   "metadata": {},
   "outputs": [
    {
     "data": {
      "text/plain": [
       "[20, 25, 55, 204, '10', 10]"
      ]
     },
     "execution_count": 112,
     "metadata": {},
     "output_type": "execute_result"
    }
   ],
   "source": [
    "marks"
   ]
  },
  {
   "cell_type": "code",
   "execution_count": 114,
   "id": "86e03dd3",
   "metadata": {},
   "outputs": [
    {
     "data": {
      "text/plain": [
       "'10'"
      ]
     },
     "execution_count": 114,
     "metadata": {},
     "output_type": "execute_result"
    }
   ],
   "source": [
    "marks.pop(-2)"
   ]
  },
  {
   "cell_type": "code",
   "execution_count": 115,
   "id": "a8937bc7",
   "metadata": {},
   "outputs": [
    {
     "data": {
      "text/plain": [
       "[20, 25, 55, 204, 10]"
      ]
     },
     "execution_count": 115,
     "metadata": {},
     "output_type": "execute_result"
    }
   ],
   "source": [
    "marks"
   ]
  },
  {
   "cell_type": "code",
   "execution_count": 117,
   "id": "151eeeea",
   "metadata": {},
   "outputs": [
    {
     "data": {
      "text/plain": [
       "[20, 55]"
      ]
     },
     "execution_count": 117,
     "metadata": {},
     "output_type": "execute_result"
    }
   ],
   "source": [
    "marks[0:3:2] #Stepping method \n",
    "          2 is for stepping "
   ]
  },
  {
   "cell_type": "code",
   "execution_count": 118,
   "id": "ece6b511",
   "metadata": {},
   "outputs": [
    {
     "data": {
      "text/plain": [
       "[20, 25, 55, 204, 10]"
      ]
     },
     "execution_count": 118,
     "metadata": {},
     "output_type": "execute_result"
    }
   ],
   "source": [
    "marks"
   ]
  },
  {
   "cell_type": "code",
   "execution_count": 119,
   "id": "b90411ad",
   "metadata": {},
   "outputs": [
    {
     "data": {
      "text/plain": [
       "[10, 204, 55, 25, 20]"
      ]
     },
     "execution_count": 119,
     "metadata": {},
     "output_type": "execute_result"
    }
   ],
   "source": [
    "marks[::-1] # -1 is used fro stepping "
   ]
  },
  {
   "cell_type": "code",
   "execution_count": 121,
   "id": "fcc44d3c",
   "metadata": {},
   "outputs": [
    {
     "data": {
      "text/plain": [
       "[10, 55]"
      ]
     },
     "execution_count": 121,
     "metadata": {},
     "output_type": "execute_result"
    }
   ],
   "source": [
    "marks[-1:-4:-2] # -2 is used for stepping "
   ]
  },
  {
   "cell_type": "markdown",
   "id": "6eb579db",
   "metadata": {},
   "source": [
    "## For Loop "
   ]
  },
  {
   "cell_type": "code",
   "execution_count": 20,
   "id": "afda51e8",
   "metadata": {},
   "outputs": [],
   "source": [
    "#to reduce repetition\n",
    "\n"
   ]
  },
  {
   "cell_type": "code",
   "execution_count": 33,
   "id": "03dc742d",
   "metadata": {},
   "outputs": [
    {
     "name": "stdout",
     "output_type": "stream",
     "text": [
      "0 1 2 3 4 5 6 7 8 9 "
     ]
    }
   ],
   "source": [
    "for i in  range(0,10):    \n",
    "    print(i,end=\" \")    \n"
   ]
  },
  {
   "cell_type": "code",
   "execution_count": 1,
   "id": "93295832",
   "metadata": {
    "scrolled": true
   },
   "outputs": [
    {
     "name": "stdout",
     "output_type": "stream",
     "text": [
      "10 9 8 7 6 5 4 3 2 1 "
     ]
    }
   ],
   "source": [
    "for i in  range(10,0,-1):    # \n",
    "    print(i,end=\" \")        # end \n",
    "    "
   ]
  },
  {
   "cell_type": "code",
   "execution_count": 3,
   "id": "127de75d",
   "metadata": {},
   "outputs": [
    {
     "name": "stdout",
     "output_type": "stream",
     "text": [
      "1\n",
      "2\n"
     ]
    }
   ],
   "source": [
    "for i  in range(1,1000):\n",
    "    if i%3==0:\n",
    "        break\n",
    "    \n",
    "    print(i)\n",
    "    \n"
   ]
  },
  {
   "cell_type": "code",
   "execution_count": 49,
   "id": "0a274c1e",
   "metadata": {},
   "outputs": [
    {
     "name": "stdout",
     "output_type": "stream",
     "text": [
      "Even= [2, 4, 6, 8, 10, 12, 14, 16, 18, 20, 22, 24, 26, 28, 30, 32, 34, 36, 38, 40, 42, 44, 46, 48, 50, 52, 54, 56, 58, 60, 62, 64, 66, 68, 70, 72, 74, 76, 78, 80, 82, 84, 86, 88, 90, 92, 94, 96, 98]\n",
      "[1, 3, 5, 7, 9, 11, 13, 15, 17, 19, 21, 23, 25, 27, 29, 31, 33, 35, 37, 39, 41, 43, 45, 47, 49, 51, 53, 55, 57, 59, 61, 63, 65, 67, 69, 71, 73, 75, 77, 79, 81, 83, 85, 87, 89, 91, 93, 95, 97, 99]\n"
     ]
    }
   ],
   "source": [
    "even=[]\n",
    "odd=[]\n",
    "\n",
    "for i in range (1,100):\n",
    "    if i%2==0:\n",
    "        even.append(i)\n",
    "    else:\n",
    "        odd.append(i)\n",
    "\n",
    "print(\"Even=\", even)\n",
    "\n",
    "print(odd)\n"
   ]
  },
  {
   "cell_type": "code",
   "execution_count": 67,
   "id": "bac1e02d",
   "metadata": {},
   "outputs": [
    {
     "name": "stdout",
     "output_type": "stream",
     "text": [
      "Even= [2, 4, 6, 8, 12, 14, 16, 18, 22, 24, 26, 28, 32, 34, 36, 38, 42, 44, 46, 48, 52, 54, 56, 58, 62, 64, 66, 68, 72, 74, 76, 78, 82, 84, 86, 88, 92, 94, 96, 98]\n",
      "Odd= [1, 3, 7, 9, 11, 13, 17, 19, 21, 23, 27, 29, 31, 33, 37, 39, 41, 43, 47, 49, 51, 53, 57, 59, 61, 63, 67, 69, 71, 73, 77, 79, 81, 83, 87, 89, 91, 93, 97, 99]\n"
     ]
    }
   ],
   "source": [
    "even=[]\n",
    "odd=[]\n",
    "\n",
    "for i in range (1,100):\n",
    "    if i%5!=0:               #No need to write modulus of 5 in each odd and even line  so we have first ask initially\n",
    "        \n",
    "        if i%2==0:  \n",
    "                \n",
    "                even.append(i)                # if i%5!=0 : Nested if can be used for this \n",
    "        else: \n",
    "            \n",
    "            odd.append(i)\n",
    "       \n",
    "\n",
    "print(\"Even=\", even)\n",
    "\n",
    "print(\"Odd=\", odd)\n",
    "\n",
    "   "
   ]
  },
  {
   "cell_type": "code",
   "execution_count": 73,
   "id": "29df740a",
   "metadata": {},
   "outputs": [
    {
     "name": "stdout",
     "output_type": "stream",
     "text": [
      "1 3 5 7 9 11 13 15 17 19 21 23 25 27 29 31 33 35 37 39 41 43 45 47 49 51 53 55 57 59 61 63 65 67 69 71 73 75 77 79 81 83 85 87 89 91 93 95 97 99 101 103 105 107 109 111 113 115 117 119 121 123 125 127 129 131 133 135 137 139 141 143 145 147 149 151 153 155 157 159 161 163 165 167 169 171 173 175 177 179 181 183 185 187 189 191 193 195 197 199 201 203 205 207 209 211 213 215 217 219 221 223 225 227 229 231 233 235 237 239 241 243 245 247 249 "
     ]
    }
   ],
   "source": [
    "for i in range (1,250):\n",
    "    if i%2==0:\n",
    "        continue #skip this statement \n",
    "    else:\n",
    "        print(i,end=\" \")\n"
   ]
  },
  {
   "cell_type": "markdown",
   "id": "8a4146dc",
   "metadata": {},
   "source": [
    "### iterating over a list for loop "
   ]
  },
  {
   "cell_type": "code",
   "execution_count": 75,
   "id": "c6dd35ee",
   "metadata": {},
   "outputs": [],
   "source": [
    "list1 =[\"huzaifa\",\"abha \"]\n"
   ]
  },
  {
   "cell_type": "code",
   "execution_count": 76,
   "id": "402b15bc",
   "metadata": {},
   "outputs": [
    {
     "name": "stdout",
     "output_type": "stream",
     "text": [
      "Welcome Mr. huzaifa\n",
      "Welcome Mr. abha \n"
     ]
    }
   ],
   "source": [
    "for name in list1:\n",
    "    print(f\"Welcome Mr. {name}\")"
   ]
  },
  {
   "cell_type": "code",
   "execution_count": null,
   "id": "265e96cd",
   "metadata": {},
   "outputs": [],
   "source": [
    "Guest_name=[]\n",
    "for name in range(5):\n",
    "    name=input(\"Enter guest name : \").upper()\n",
    "    if name==\"HUZAIFA\" : #or name in Guest_list  :\n",
    "        continue\n",
    "        \n",
    "    else:\n",
    "        Guest_name.append(name)\n",
    "print(Guest_name)\n",
    "        \n",
    "    \n"
   ]
  },
  {
   "cell_type": "markdown",
   "id": "4743daa8",
   "metadata": {},
   "source": [
    "## Exercise "
   ]
  },
  {
   "cell_type": "code",
   "execution_count": 12,
   "id": "5182ecdd",
   "metadata": {},
   "outputs": [
    {
     "name": "stdout",
     "output_type": "stream",
     "text": [
      "1 2 3 4 5 6 7 8 9 10 11 12 13 14 15 16 17 18 19 20 "
     ]
    }
   ],
   "source": [
    "1 # counting to twenty\n",
    "\n",
    "for a in range(1,21):\n",
    "    \n",
    "    print(a, end =\" \")"
   ]
  },
  {
   "cell_type": "code",
   "execution_count": 5,
   "id": "0e91e9e0",
   "metadata": {},
   "outputs": [
    {
     "name": "stdout",
     "output_type": "stream",
     "text": [
      "[1, 2, 3, 4, 5, 6, 7, 8, 9, 10, 11, 12, 13, 14, 15, 16, 17, 18, 19, 20, 21, 22, 23, 24, 25, 26, 27, 28, 29, 30, 31, 32, 33, 34, 35, 36, 37, 38, 39, 40, 41, 42, 43, 44, 45, 46, 47, 48, 49, 50, 51, 52, 53, 54, 55, 56, 57, 58, 59, 60, 61, 62, 63, 64, 65, 66, 67, 68, 69, 70, 71, 72, 73, 74, 75, 76, 77, 78, 79, 80, 81, 82, 83, 84, 85, 86, 87, 88, 89, 90, 91, 92, 93, 94, 95, 96, 97, 98, 99, 100, 101, 102, 103, 104, 105, 106, 107, 108, 109, 110, 111, 112, 113, 114, 115, 116, 117, 118, 119, 120, 121, 122, 123, 124, 125, 126, 127, 128, 129, 130, 131, 132, 133, 134, 135, 136, 137, 138, 139, 140, 141, 142, 143, 144, 145, 146, 147, 148, 149, 150, 151, 152, 153, 154, 155, 156, 157, 158, 159, 160, 161, 162, 163, 164, 165, 166, 167, 168, 169, 170, 171, 172, 173, 174, 175, 176, 177, 178, 179, 180, 181, 182, 183, 184, 185, 186, 187, 188, 189, 190, 191, 192, 193, 194, 195, 196, 197, 198, 199, 200, 201, 202, 203, 204, 205, 206, 207, 208, 209, 210, 211, 212, 213, 214, 215, 216, 217, 218, 219, 220, 221, 222, 223, 224, 225, 226, 227, 228, 229, 230, 231, 232, 233, 234, 235, 236, 237, 238, 239, 240, 241, 242, 243, 244, 245, 246, 247, 248, 249, 250, 251, 252, 253, 254, 255, 256, 257, 258, 259, 260, 261, 262, 263, 264, 265, 266, 267, 268, 269, 270, 271, 272, 273, 274, 275, 276, 277, 278, 279, 280, 281, 282, 283, 284, 285, 286, 287, 288, 289, 290, 291, 292, 293, 294, 295, 296, 297, 298, 299, 300, 301, 302, 303, 304, 305, 306, 307, 308, 309, 310, 311, 312, 313, 314, 315, 316, 317, 318, 319, 320, 321, 322, 323, 324, 325, 326, 327, 328, 329, 330, 331, 332, 333, 334, 335, 336, 337, 338, 339, 340, 341, 342, 343, 344, 345, 346, 347, 348, 349, 350, 351, 352, 353, 354, 355, 356, 357, 358, 359, 360, 361, 362, 363, 364, 365, 366, 367, 368, 369, 370, 371, 372, 373, 374, 375, 376, 377, 378, 379, 380, 381, 382, 383, 384, 385, 386, 387, 388, 389, 390, 391, 392, 393, 394, 395, 396, 397, 398, 399, 400, 401, 402, 403, 404, 405, 406, 407, 408, 409, 410, 411, 412, 413, 414, 415, 416, 417, 418, 419, 420, 421, 422, 423, 424, 425, 426, 427, 428, 429, 430, 431, 432, 433, 434, 435, 436, 437, 438, 439, 440, 441, 442, 443, 444, 445, 446, 447, 448, 449, 450, 451, 452, 453, 454, 455, 456, 457, 458, 459, 460, 461, 462, 463, 464, 465, 466, 467, 468, 469, 470, 471, 472, 473, 474, 475, 476, 477, 478, 479, 480, 481, 482, 483, 484, 485, 486, 487, 488, 489, 490, 491, 492, 493, 494, 495, 496, 497, 498, 499, 500, 501, 502, 503, 504, 505, 506, 507, 508, 509, 510, 511, 512, 513, 514, 515, 516, 517, 518, 519, 520, 521, 522, 523, 524, 525, 526, 527, 528, 529, 530, 531, 532, 533, 534, 535, 536, 537, 538, 539, 540, 541, 542, 543, 544, 545, 546, 547, 548, 549, 550, 551, 552, 553, 554, 555, 556, 557, 558, 559, 560, 561, 562, 563, 564, 565, 566, 567, 568, 569, 570, 571, 572, 573, 574, 575, 576, 577, 578, 579, 580, 581, 582, 583, 584, 585, 586, 587, 588, 589, 590, 591, 592, 593, 594, 595, 596, 597, 598, 599, 600, 601, 602, 603, 604, 605, 606, 607, 608, 609, 610, 611, 612, 613, 614, 615, 616, 617, 618, 619, 620, 621, 622, 623, 624, 625, 626, 627, 628, 629, 630, 631, 632, 633, 634, 635, 636, 637, 638, 639, 640, 641, 642, 643, 644, 645, 646, 647, 648, 649, 650, 651, 652, 653, 654, 655, 656, 657, 658, 659, 660, 661, 662, 663, 664, 665, 666, 667, 668, 669, 670, 671, 672, 673, 674, 675, 676, 677, 678, 679, 680, 681, 682, 683, 684, 685, 686, 687, 688, 689, 690, 691, 692, 693, 694, 695, 696, 697, 698, 699, 700, 701, 702, 703, 704, 705, 706, 707, 708, 709, 710, 711, 712, 713, 714, 715, 716, 717, 718, 719, 720, 721, 722, 723, 724, 725, 726, 727, 728, 729, 730, 731, 732, 733, 734, 735, 736, 737, 738, 739, 740, 741, 742, 743, 744, 745, 746, 747, 748, 749, 750, 751, 752, 753, 754, 755, 756, 757, 758, 759, 760, 761, 762, 763, 764, 765, 766, 767, 768, 769, 770, 771, 772, 773, 774, 775, 776, 777, 778, 779, 780, 781, 782, 783, 784, 785, 786, 787, 788, 789, 790, 791, 792, 793, 794, 795, 796, 797, 798, 799, 800, 801, 802, 803, 804, 805, 806, 807, 808, 809, 810, 811, 812, 813, 814, 815, 816, 817, 818, 819, 820, 821, 822, 823, 824, 825, 826, 827, 828, 829, 830, 831, 832, 833, 834, 835, 836, 837, 838, 839, 840, 841, 842, 843, 844, 845, 846, 847, 848, 849, 850, 851, 852, 853, 854, 855, 856, 857, 858, 859, 860, 861, 862, 863, 864, 865, 866, 867, 868, 869, 870, 871, 872, 873, 874, 875, 876, 877, 878, 879, 880, 881, 882, 883, 884, 885, 886, 887, 888, 889, 890, 891, 892, 893, 894, 895, 896, 897, 898, 899, 900, 901, 902, 903, 904, 905, 906, 907, 908, 909, 910, 911, 912, 913, 914, 915, 916, 917, 918, 919, 920, 921, 922, 923, 924, 925, 926, 927, 928, 929, 930, 931, 932, 933, 934, 935, 936, 937, 938, 939, 940, 941, 942, 943, 944, 945, 946, 947, 948, 949, 950, 951, 952, 953, 954, 955, 956, 957, 958, 959, 960, 961, 962, 963, 964, 965, 966, 967, 968, 969, 970, 971, 972, 973, 974, 975, 976, 977, 978, 979, 980, 981, 982, 983, 984, 985, 986, 987, 988, 989, 990, 991, 992, 993, 994, 995, 996, 997, 998, 999]\n"
     ]
    }
   ],
   "source": [
    "list=[]\n",
    "for a in range (1,1000):\n",
    "    list.append(a)\n",
    "print(list)"
   ]
  },
  {
   "cell_type": "code",
   "execution_count": 17,
   "id": "394f46d1",
   "metadata": {},
   "outputs": [
    {
     "name": "stdout",
     "output_type": "stream",
     "text": [
      "1\n",
      "999\n",
      "499500\n"
     ]
    }
   ],
   "source": [
    "list=[]\n",
    "\n",
    "for a in range (1,1000):\n",
    "    list.append(a)\n",
    "    \n",
    "print(min(list))\n",
    "print(max(list))\n",
    "print(sum(list))"
   ]
  },
  {
   "cell_type": "code",
   "execution_count": 28,
   "id": "b27b6abd",
   "metadata": {},
   "outputs": [
    {
     "name": "stdout",
     "output_type": "stream",
     "text": [
      "[3, 6, 9, 12, 15, 18, 21, 24, 27]\n"
     ]
    }
   ],
   "source": [
    "List1=[]\n",
    "for a in range(3,30):\n",
    "    if a%3==0:\n",
    "        \n",
    "        List1.append(a)\n",
    "    \n",
    "print(List1)\n"
   ]
  },
  {
   "cell_type": "code",
   "execution_count": 29,
   "id": "f9187462",
   "metadata": {},
   "outputs": [
    {
     "name": "stdout",
     "output_type": "stream",
     "text": [
      "[1, 7, 13, 19]\n"
     ]
    }
   ],
   "source": [
    "#third argument of list means stepping \n",
    "List1=[]\n",
    "for a in range(1,20,3):\n",
    "    if a%2!=0:\n",
    "        \n",
    "        List1.append(a)\n",
    "    \n",
    "print(List1)"
   ]
  },
  {
   "cell_type": "markdown",
   "id": "c36a94ba",
   "metadata": {},
   "source": [
    "## List Comprehension"
   ]
  },
  {
   "cell_type": "code",
   "execution_count": 32,
   "id": "4d68c1ff",
   "metadata": {},
   "outputs": [
    {
     "name": "stdout",
     "output_type": "stream",
     "text": [
      "[1, 4, 9, 16, 25, 36, 49, 64, 81]\n"
     ]
    }
   ],
   "source": [
    "#Without list comprehension\n",
    "\n",
    "square=[]\n",
    "for a in range (1,10):\n",
    "    sq=a**2\n",
    "    square.append(sq)\n",
    "print(square)"
   ]
  },
  {
   "cell_type": "code",
   "execution_count": 1,
   "id": "30a90a18",
   "metadata": {},
   "outputs": [
    {
     "data": {
      "text/plain": [
       "[1, 4, 9, 16, 25, 36, 49, 64, 81]"
      ]
     },
     "execution_count": 1,
     "metadata": {},
     "output_type": "execute_result"
    }
   ],
   "source": [
    "Squares=[a**2 for a in range(1,10)]         #With list comprehension \n",
    "Squares"
   ]
  },
  {
   "cell_type": "markdown",
   "id": "df096fb6",
   "metadata": {},
   "source": [
    "## Class 10"
   ]
  },
  {
   "cell_type": "markdown",
   "id": "99c2c563",
   "metadata": {},
   "source": [
    "\n",
    "## nEsted For loop "
   ]
  },
  {
   "cell_type": "code",
   "execution_count": 1,
   "id": "ecef2cef",
   "metadata": {},
   "outputs": [
    {
     "name": "stdout",
     "output_type": "stream",
     "text": [
      "huzaifa Shahid\n",
      "huzaifa Aslam\n",
      "huzaifa Furqan\n",
      "abha  Shahid\n",
      "abha  Aslam\n",
      "abha  Furqan\n",
      "ahmed  Shahid\n",
      "ahmed  Aslam\n",
      "ahmed  Furqan\n"
     ]
    }
   ],
   "source": [
    "lst1=[\"huzaifa\", \"abha \", \"ahmed \"]\n",
    "lst2=[\"Shahid\", \"Aslam\",\"Furqan\"]\n",
    "\n",
    "for name in lst1:\n",
    "    for name2 in lst2:\n",
    "        print(f\"{name} {name2}\")\n",
    "        \n",
    "    "
   ]
  },
  {
   "cell_type": "code",
   "execution_count": 11,
   "id": "fb3b1e20",
   "metadata": {},
   "outputs": [
    {
     "name": "stdout",
     "output_type": "stream",
     "text": [
      "huzaifa Shahid\n",
      "abha  Aslam\n",
      "ahmed  Furqan\n"
     ]
    }
   ],
   "source": [
    "lst1=[\"huzaifa\", \"abha \", \"ahmed \"]\n",
    "lst2=[\"Shahid\", \"Aslam\",\"Furqan\"]\n",
    "\n",
    "for name in lst1:\n",
    "    print(f\"{name} {lst2[lst1.index(name)]}\")"
   ]
  },
  {
   "cell_type": "markdown",
   "id": "f20a8924",
   "metadata": {},
   "source": [
    " ### Data Stucture \" Dictionary\""
   ]
  },
  {
   "cell_type": "code",
   "execution_count": 18,
   "id": "250f7f9d",
   "metadata": {},
   "outputs": [
    {
     "ename": "IndentationError",
     "evalue": "unexpected indent (Temp/ipykernel_4516/1652388731.py, line 4)",
     "output_type": "error",
     "traceback": [
      "\u001b[1;36m  File \u001b[1;32m\"C:\\Users\\LAB02R~1\\AppData\\Local\\Temp/ipykernel_4516/1652388731.py\"\u001b[1;36m, line \u001b[1;32m4\u001b[0m\n\u001b[1;33m    key      value       key     value\u001b[0m\n\u001b[1;37m    ^\u001b[0m\n\u001b[1;31mIndentationError\u001b[0m\u001b[1;31m:\u001b[0m unexpected indent\n"
     ]
    }
   ],
   "source": [
    "## Dictionary is identified by curly bracket ( Data stored in key and value)\n",
    "\n",
    "Dictionary ={\"name\":\"Saylani\",\"campus\":\" Gulshan\"}\n",
    "              key      value       key     value \n",
    "               "
   ]
  },
  {
   "cell_type": "code",
   "execution_count": 41,
   "id": "653ae441",
   "metadata": {},
   "outputs": [],
   "source": [
    "Dictionary ={\"name\":\"Saylani\",\"campus\":\" Gulshan\"}"
   ]
  },
  {
   "cell_type": "code",
   "execution_count": 42,
   "id": "4e6a79dd",
   "metadata": {},
   "outputs": [
    {
     "data": {
      "text/plain": [
       "'Saylani'"
      ]
     },
     "execution_count": 42,
     "metadata": {},
     "output_type": "execute_result"
    }
   ],
   "source": [
    "Dictionary[\"name\"]"
   ]
  },
  {
   "cell_type": "code",
   "execution_count": 43,
   "id": "707b92b1",
   "metadata": {},
   "outputs": [
    {
     "data": {
      "text/plain": [
       "' Gulshan'"
      ]
     },
     "execution_count": 43,
     "metadata": {},
     "output_type": "execute_result"
    }
   ],
   "source": [
    "Dictionary[\"campus\"]"
   ]
  },
  {
   "cell_type": "code",
   "execution_count": 44,
   "id": "0582091f",
   "metadata": {},
   "outputs": [],
   "source": [
    "Dictionary[\"teacher\"]=\"Nasir\"     # adding a value by passing key "
   ]
  },
  {
   "cell_type": "code",
   "execution_count": 45,
   "id": "19679028",
   "metadata": {},
   "outputs": [
    {
     "data": {
      "text/plain": [
       "{'name': 'Saylani', 'campus': ' Gulshan', 'teacher': 'Nasir'}"
      ]
     },
     "execution_count": 45,
     "metadata": {},
     "output_type": "execute_result"
    }
   ],
   "source": [
    "Dictionary"
   ]
  },
  {
   "cell_type": "code",
   "execution_count": 46,
   "id": "d917f9bf",
   "metadata": {},
   "outputs": [],
   "source": [
    "Dictionary[\"teacher\"]=\"kamran\"   # Changing a value in "
   ]
  },
  {
   "cell_type": "code",
   "execution_count": 47,
   "id": "0a16565a",
   "metadata": {},
   "outputs": [
    {
     "data": {
      "text/plain": [
       "{'name': 'Saylani', 'campus': ' Gulshan', 'teacher': 'kamran'}"
      ]
     },
     "execution_count": 47,
     "metadata": {},
     "output_type": "execute_result"
    }
   ],
   "source": [
    "Dictionary"
   ]
  },
  {
   "cell_type": "code",
   "execution_count": 48,
   "id": "f4505edb",
   "metadata": {},
   "outputs": [],
   "source": [
    "del Dictionary[\"teacher\"]          # Deleting a value by "
   ]
  },
  {
   "cell_type": "code",
   "execution_count": 49,
   "id": "0ff63684",
   "metadata": {},
   "outputs": [
    {
     "data": {
      "text/plain": [
       "{'name': 'Saylani', 'campus': ' Gulshan'}"
      ]
     },
     "execution_count": 49,
     "metadata": {},
     "output_type": "execute_result"
    }
   ],
   "source": [
    "Dictionary"
   ]
  },
  {
   "cell_type": "code",
   "execution_count": 57,
   "id": "edad4bf2",
   "metadata": {},
   "outputs": [],
   "source": [
    "Score ={\"rizwan\":45, \"aslam\":50}"
   ]
  },
  {
   "cell_type": "code",
   "execution_count": 58,
   "id": "c84d1443",
   "metadata": {},
   "outputs": [
    {
     "data": {
      "text/plain": [
       "{'rizwan': 45, 'aslam': 50}"
      ]
     },
     "execution_count": 58,
     "metadata": {},
     "output_type": "execute_result"
    }
   ],
   "source": [
    "Score\n"
   ]
  },
  {
   "cell_type": "code",
   "execution_count": 55,
   "id": "b49611e3",
   "metadata": {},
   "outputs": [
    {
     "data": {
      "text/plain": [
       "{'name': 'Saylani', 'campus': ' Gulshan'}"
      ]
     },
     "execution_count": 55,
     "metadata": {},
     "output_type": "execute_result"
    }
   ],
   "source": [
    "Dictionary"
   ]
  },
  {
   "cell_type": "code",
   "execution_count": 61,
   "id": "deac8ca7",
   "metadata": {},
   "outputs": [
    {
     "name": "stdout",
     "output_type": "stream",
     "text": [
      "rizwan\n",
      "aslam\n"
     ]
    }
   ],
   "source": [
    "for a in Score:\n",
    "    print(a)"
   ]
  },
  {
   "cell_type": "code",
   "execution_count": 63,
   "id": "9fa8ead6",
   "metadata": {},
   "outputs": [
    {
     "name": "stdout",
     "output_type": "stream",
     "text": [
      "rizwan\n",
      "aslam\n"
     ]
    }
   ],
   "source": [
    "for a in Score.keys():\n",
    "    print(a)"
   ]
  },
  {
   "cell_type": "code",
   "execution_count": 64,
   "id": "400be107",
   "metadata": {},
   "outputs": [
    {
     "name": "stdout",
     "output_type": "stream",
     "text": [
      "45\n",
      "50\n"
     ]
    }
   ],
   "source": [
    "for a in Score.values():\n",
    "    print(a)"
   ]
  },
  {
   "cell_type": "code",
   "execution_count": 65,
   "id": "724ce801",
   "metadata": {},
   "outputs": [
    {
     "name": "stdout",
     "output_type": "stream",
     "text": [
      "('rizwan', 45)\n",
      "('aslam', 50)\n"
     ]
    }
   ],
   "source": [
    "for a in Score.items():          #item dono dega     #() ye tupple houta hai\n",
    "    print(a)"
   ]
  },
  {
   "cell_type": "code",
   "execution_count": 66,
   "id": "380616d7",
   "metadata": {},
   "outputs": [
    {
     "name": "stdout",
     "output_type": "stream",
     "text": [
      "rizwan  45\n",
      "aslam  50\n"
     ]
    }
   ],
   "source": [
    "for key,value in Score.items():\n",
    "    print(f\"{key}  {value}\")"
   ]
  },
  {
   "cell_type": "code",
   "execution_count": 73,
   "id": "af1e8fd7",
   "metadata": {},
   "outputs": [
    {
     "ename": "NameError",
     "evalue": "name 'keys' is not defined",
     "output_type": "error",
     "traceback": [
      "\u001b[1;31m---------------------------------------------------------------------------\u001b[0m",
      "\u001b[1;31mNameError\u001b[0m                                 Traceback (most recent call last)",
      "\u001b[1;32mC:\\Users\\LAB02R~1\\AppData\\Local\\Temp/ipykernel_4516/1352794308.py\u001b[0m in \u001b[0;36m<module>\u001b[1;34m\u001b[0m\n\u001b[0;32m      1\u001b[0m \u001b[1;32mfor\u001b[0m \u001b[0mkey\u001b[0m \u001b[1;32min\u001b[0m \u001b[0mScore\u001b[0m\u001b[1;33m.\u001b[0m\u001b[0mkeys\u001b[0m\u001b[1;33m(\u001b[0m\u001b[1;33m)\u001b[0m\u001b[1;33m:\u001b[0m\u001b[1;33m\u001b[0m\u001b[1;33m\u001b[0m\u001b[0m\n\u001b[1;32m----> 2\u001b[1;33m     \u001b[0mprint\u001b[0m\u001b[1;33m(\u001b[0m\u001b[0mScore\u001b[0m\u001b[1;33m[\u001b[0m\u001b[0mkeys\u001b[0m\u001b[1;33m]\u001b[0m\u001b[1;33m)\u001b[0m\u001b[1;33m\u001b[0m\u001b[1;33m\u001b[0m\u001b[0m\n\u001b[0m",
      "\u001b[1;31mNameError\u001b[0m: name 'keys' is not defined"
     ]
    }
   ],
   "source": [
    "for key in Score.keys():\n",
    "    print(Score[keys])"
   ]
  },
  {
   "cell_type": "markdown",
   "id": "7f02963a",
   "metadata": {},
   "source": [
    "## List in a Disctionary"
   ]
  },
  {
   "cell_type": "code",
   "execution_count": 16,
   "id": "f088bf86",
   "metadata": {},
   "outputs": [
    {
     "data": {
      "text/html": [
       "<div>\n",
       "<style scoped>\n",
       "    .dataframe tbody tr th:only-of-type {\n",
       "        vertical-align: middle;\n",
       "    }\n",
       "\n",
       "    .dataframe tbody tr th {\n",
       "        vertical-align: top;\n",
       "    }\n",
       "\n",
       "    .dataframe thead th {\n",
       "        text-align: right;\n",
       "    }\n",
       "</style>\n",
       "<table border=\"1\" class=\"dataframe\">\n",
       "  <thead>\n",
       "    <tr style=\"text-align: right;\">\n",
       "      <th></th>\n",
       "      <th>students</th>\n",
       "      <th>Marks</th>\n",
       "    </tr>\n",
       "  </thead>\n",
       "  <tbody>\n",
       "    <tr>\n",
       "      <th>0</th>\n",
       "      <td>Nasir</td>\n",
       "      <td>1</td>\n",
       "    </tr>\n",
       "    <tr>\n",
       "      <th>1</th>\n",
       "      <td>fahad</td>\n",
       "      <td>2</td>\n",
       "    </tr>\n",
       "    <tr>\n",
       "      <th>2</th>\n",
       "      <td>yasir</td>\n",
       "      <td>3</td>\n",
       "    </tr>\n",
       "  </tbody>\n",
       "</table>\n",
       "</div>"
      ],
      "text/plain": [
       "  students  Marks\n",
       "0    Nasir      1\n",
       "1    fahad      2\n",
       "2    yasir      3"
      ]
     },
     "execution_count": 16,
     "metadata": {},
     "output_type": "execute_result"
    }
   ],
   "source": [
    "list_in_dic={\"students\":[\"Nasir\",\"fahad\",\"yasir\"],\"Marks\":[1,2,3]}\n",
    "import pandas as pd          # tabular form \n",
    "pd.DataFrame(list_in_dic)"
   ]
  },
  {
   "cell_type": "code",
   "execution_count": null,
   "id": "ac9ea784",
   "metadata": {},
   "outputs": [],
   "source": [
    "list_in_dic[\"students\"]"
   ]
  },
  {
   "cell_type": "code",
   "execution_count": 6,
   "id": "bb331736",
   "metadata": {},
   "outputs": [
    {
     "data": {
      "text/plain": [
       "[1, 2, 3]"
      ]
     },
     "execution_count": 6,
     "metadata": {},
     "output_type": "execute_result"
    }
   ],
   "source": [
    "list_in_dic[\"Marks\"]"
   ]
  },
  {
   "cell_type": "code",
   "execution_count": 7,
   "id": "f1111581",
   "metadata": {},
   "outputs": [
    {
     "data": {
      "text/plain": [
       "['fahad', 'yasir']"
      ]
     },
     "execution_count": 7,
     "metadata": {},
     "output_type": "execute_result"
    }
   ],
   "source": [
    "list_in_dic[\"students\"][1:3]"
   ]
  },
  {
   "cell_type": "markdown",
   "id": "fd58fa9e",
   "metadata": {},
   "source": [
    "## Dictionary in a list"
   ]
  },
  {
   "cell_type": "code",
   "execution_count": 10,
   "id": "8540056e",
   "metadata": {},
   "outputs": [],
   "source": [
    "dic_in_list=[{\"sales\":[1,2,3]},{\"games\":[\"saad\",\"asad\",\"hamza\"]},{\"fahad\":[1,2,3]}]"
   ]
  },
  {
   "cell_type": "code",
   "execution_count": 11,
   "id": "8624ff4f",
   "metadata": {},
   "outputs": [
    {
     "data": {
      "text/plain": [
       "{'sales': [1, 2, 3]}"
      ]
     },
     "execution_count": 11,
     "metadata": {},
     "output_type": "execute_result"
    }
   ],
   "source": [
    "dic_in_list[0]                 #index diya hai"
   ]
  },
  {
   "cell_type": "code",
   "execution_count": 13,
   "id": "812c3acf",
   "metadata": {},
   "outputs": [
    {
     "data": {
      "text/plain": [
       "1"
      ]
     },
     "execution_count": 13,
     "metadata": {},
     "output_type": "execute_result"
    }
   ],
   "source": [
    "dic_in_list[0][\"sales\"][0]"
   ]
  },
  {
   "cell_type": "code",
   "execution_count": 19,
   "id": "afef0ce6",
   "metadata": {},
   "outputs": [],
   "source": [
    "dic_in_list={ \"dic1\":{\"profit\":[1,2,3,]},\"dic2\":{\"games\":[\"saad\",\"asad\",\"hamza\"]}}    # Dictionay in Dictionary"
   ]
  },
  {
   "cell_type": "code",
   "execution_count": 20,
   "id": "fb0f2fba",
   "metadata": {},
   "outputs": [
    {
     "data": {
      "text/plain": [
       "'hamza'"
      ]
     },
     "execution_count": 20,
     "metadata": {},
     "output_type": "execute_result"
    }
   ],
   "source": [
    "dic_in_list[\"dic2\"][\"games\"][2]"
   ]
  },
  {
   "cell_type": "code",
   "execution_count": 21,
   "id": "19340298",
   "metadata": {},
   "outputs": [],
   "source": [
    "list_in_list=[[1,2,3],[\"asad\",\"fahad\"]]           # list in list "
   ]
  },
  {
   "cell_type": "code",
   "execution_count": 22,
   "id": "7102fee8",
   "metadata": {},
   "outputs": [
    {
     "data": {
      "text/plain": [
       "2"
      ]
     },
     "execution_count": 22,
     "metadata": {},
     "output_type": "execute_result"
    }
   ],
   "source": [
    "list_in_list[0][1]"
   ]
  },
  {
   "cell_type": "markdown",
   "id": "049982b9",
   "metadata": {},
   "source": [
    "## Class 13   While loop"
   ]
  },
  {
   "cell_type": "code",
   "execution_count": null,
   "id": "600650f9",
   "metadata": {},
   "outputs": [],
   "source": []
  },
  {
   "cell_type": "code",
   "execution_count": 1,
   "id": "c447ed2c",
   "metadata": {},
   "outputs": [
    {
     "name": "stdout",
     "output_type": "stream",
     "text": [
      "python\n",
      "python\n",
      "python\n",
      "python\n",
      "python\n"
     ]
    }
   ],
   "source": [
    "count= 0\n",
    "while count<5:\n",
    "    print(\"python\")\n",
    "    count=count+1\n",
    "    "
   ]
  },
  {
   "cell_type": "code",
   "execution_count": 2,
   "id": "ced033c1",
   "metadata": {},
   "outputs": [],
   "source": [
    "Dictionary={\"name\":\"huzaifa\",\"father_name\":\"Waseem\"}"
   ]
  },
  {
   "cell_type": "code",
   "execution_count": 3,
   "id": "e198fac7",
   "metadata": {},
   "outputs": [
    {
     "name": "stdout",
     "output_type": "stream",
     "text": [
      "python\n",
      "python\n",
      "python\n",
      "python\n",
      "python\n",
      "python\n",
      "python\n",
      "python\n",
      "python\n",
      "python\n"
     ]
    }
   ],
   "source": [
    "count= 10\n",
    "while count>0:\n",
    "    print(\"python\")\n",
    "    count=count-1"
   ]
  },
  {
   "cell_type": "code",
   "execution_count": 3,
   "id": "15b62e8d",
   "metadata": {},
   "outputs": [
    {
     "name": "stdout",
     "output_type": "stream",
     "text": [
      "0\n",
      "2\n",
      "4\n",
      "6\n",
      "8\n",
      "10\n",
      "12\n",
      "14\n",
      "16\n",
      "18\n",
      "20\n"
     ]
    }
   ],
   "source": [
    "count=0\n",
    "\n",
    "while count<=20:\n",
    "    if count%2==0:\n",
    "        \n",
    "        print(count)\n",
    "    count=count+1    \n",
    "    \n"
   ]
  },
  {
   "cell_type": "code",
   "execution_count": null,
   "id": "22b4b88c",
   "metadata": {},
   "outputs": [],
   "source": [
    "count=0                    \n",
    "\n",
    "while count<=20:\n",
    "    if count%2!=0:\n",
    "        continue\n",
    "        \n",
    "        print(count)\n",
    "count=count+1  "
   ]
  },
  {
   "cell_type": "code",
   "execution_count": 10,
   "id": "539e5966",
   "metadata": {},
   "outputs": [
    {
     "name": "stdout",
     "output_type": "stream",
     "text": [
      "Enter your best friend or press q for exit a\n",
      "Enter your best friend or press q for exit sd\n",
      "Enter your best friend or press q for exit d\n",
      "Enter your best friend or press q for exit Q\n",
      "['a', 'sd', 'd']\n"
     ]
    }
   ],
   "source": [
    "best_friends=[]\n",
    "while True:\n",
    "    best_friend=input(\"Enter your best friend or press q for exit \")\n",
    "    best_friends.append(best_friend)\n",
    "    if best_friend==\"q\" or best_friend==\"Q\":\n",
    "        break\n",
    "best_friends.pop(-1)\n",
    "print(best_friends)\n",
    "    \n",
    "     "
   ]
  },
  {
   "cell_type": "code",
   "execution_count": 11,
   "id": "186363ef",
   "metadata": {},
   "outputs": [
    {
     "name": "stdout",
     "output_type": "stream",
     "text": [
      "Enter your best friend or press q for exit a\n",
      "Enter your best friend or press q for exit c\n",
      "Enter your best friend or press q for exit v\n",
      "Enter your best friend or press q for exit q\n",
      "['a', 'c', 'v']\n"
     ]
    }
   ],
   "source": [
    "best_friends=[]\n",
    "while True:\n",
    "    best_friend=input(\"Enter your best friend or press q for exit \")\n",
    "    \n",
    "    if best_friend==\"q\" or best_friend==\"Q\":\n",
    "        break\n",
    "    else:\n",
    "        best_friends.append(best_friend)\n",
    "print(best_friends)\n",
    "    "
   ]
  },
  {
   "cell_type": "code",
   "execution_count": 1,
   "id": "299b0be2",
   "metadata": {},
   "outputs": [
    {
     "name": "stdout",
     "output_type": "stream",
     "text": [
      "Enter your best friend or press q for exit a\n",
      "Enter your best friend or press q for exit c\n",
      "Enter your best friend or press q for exit v\n",
      "Enter your best friend or press q for exit q\n",
      "['a', 'c', 'v']\n"
     ]
    }
   ],
   "source": [
    "# using Flag variable \n",
    "best_friends=[]\n",
    "flag=True\n",
    "while flag:\n",
    "    best_friend=input(\"Enter your best friend or press q for exit \")\n",
    "    \n",
    "    if best_friend==\"q\" or best_friend==\"Q\":\n",
    "        flag=False\n",
    "       \n",
    "    else:\n",
    "        best_friends.append(best_friend)\n",
    "print(best_friends)"
   ]
  },
  {
   "cell_type": "code",
   "execution_count": null,
   "id": "5d380510",
   "metadata": {},
   "outputs": [],
   "source": [
    "list1=[]\n",
    "flag =True\n",
    "num=None\n",
    "while flag:\n",
    "    if num==0:\n",
    "        break \n",
    "    else:\n",
    "        \n",
    "        num=int(input(\"enter Number \"))\n",
    "    \n",
    "    \n",
    "    list1.append(num)\n",
    "    \n",
    "print(sum(list1))"
   ]
  },
  {
   "cell_type": "code",
   "execution_count": null,
   "id": "bf556b06",
   "metadata": {},
   "outputs": [],
   "source": []
  },
  {
   "cell_type": "code",
   "execution_count": 23,
   "id": "b3a4ffad",
   "metadata": {},
   "outputs": [
    {
     "name": "stdout",
     "output_type": "stream",
     "text": [
      "enter Number 5\n",
      "enter Number 4\n",
      "enter Number q\n"
     ]
    },
    {
     "ename": "ValueError",
     "evalue": "invalid literal for int() with base 10: 'q'",
     "output_type": "error",
     "traceback": [
      "\u001b[1;31m---------------------------------------------------------------------------\u001b[0m",
      "\u001b[1;31mValueError\u001b[0m                                Traceback (most recent call last)",
      "\u001b[1;32mC:\\Users\\LAB02R~1\\AppData\\Local\\Temp/ipykernel_4536/515994326.py\u001b[0m in \u001b[0;36m<module>\u001b[1;34m\u001b[0m\n\u001b[0;32m      9\u001b[0m         \u001b[1;32mif\u001b[0m \u001b[0mnum\u001b[0m\u001b[1;33m==\u001b[0m\u001b[1;34m\"q\"\u001b[0m\u001b[1;33m:\u001b[0m\u001b[1;33m\u001b[0m\u001b[1;33m\u001b[0m\u001b[0m\n\u001b[0;32m     10\u001b[0m             \u001b[0mflag\u001b[0m\u001b[1;33m=\u001b[0m \u001b[1;32mFalse\u001b[0m\u001b[1;33m\u001b[0m\u001b[1;33m\u001b[0m\u001b[0m\n\u001b[1;32m---> 11\u001b[1;33m         \u001b[0mlist1\u001b[0m\u001b[1;33m.\u001b[0m\u001b[0mappend\u001b[0m\u001b[1;33m(\u001b[0m\u001b[0mint\u001b[0m\u001b[1;33m(\u001b[0m\u001b[0mnum\u001b[0m\u001b[1;33m)\u001b[0m\u001b[1;33m)\u001b[0m\u001b[1;33m\u001b[0m\u001b[1;33m\u001b[0m\u001b[0m\n\u001b[0m\u001b[0;32m     12\u001b[0m \u001b[0mprint\u001b[0m\u001b[1;33m(\u001b[0m\u001b[0msum\u001b[0m\u001b[1;33m(\u001b[0m\u001b[0mlist1\u001b[0m\u001b[1;33m)\u001b[0m\u001b[1;33m)\u001b[0m\u001b[1;33m\u001b[0m\u001b[1;33m\u001b[0m\u001b[0m\n",
      "\u001b[1;31mValueError\u001b[0m: invalid literal for int() with base 10: 'q'"
     ]
    }
   ],
   "source": [
    "#from IPython.display import clear_output    # function for clear screen \n",
    "\n",
    "list1=[]\n",
    "flag =True\n",
    "\n",
    "while flag:\n",
    "        num=input(\"enter Number \")\n",
    "        \n",
    "        if num==\"q\":\n",
    "            flag= False\n",
    "        list1.append(int(num))\n",
    "print(sum(list1))"
   ]
  },
  {
   "cell_type": "code",
   "execution_count": 31,
   "id": "8372cedb",
   "metadata": {},
   "outputs": [
    {
     "name": "stdout",
     "output_type": "stream",
     "text": [
      "Enter favourite number5,5,5,5\n",
      "20\n"
     ]
    }
   ],
   "source": [
    "total=0\n",
    "fav_nums=input(\"Enter favourite number\").split(\",\")\n",
    "for num in fav_nums:\n",
    "    if num==5:\n",
    "        continue\n",
    "    else:\n",
    "        total=total+int(num)\n",
    "print(total)"
   ]
  },
  {
   "cell_type": "code",
   "execution_count": 41,
   "id": "2221443e",
   "metadata": {},
   "outputs": [
    {
     "data": {
      "text/plain": [
       "[10,\n",
       " 10,\n",
       " 11,\n",
       " 10,\n",
       " 11,\n",
       " 12,\n",
       " 10,\n",
       " 11,\n",
       " 12,\n",
       " 13,\n",
       " 10,\n",
       " 11,\n",
       " 12,\n",
       " 13,\n",
       " 14,\n",
       " 10,\n",
       " 11,\n",
       " 12,\n",
       " 13,\n",
       " 14,\n",
       " 15,\n",
       " 10,\n",
       " 11,\n",
       " 12,\n",
       " 13,\n",
       " 14,\n",
       " 15,\n",
       " 16,\n",
       " 10,\n",
       " 11,\n",
       " 12,\n",
       " 13,\n",
       " 14,\n",
       " 15,\n",
       " 16,\n",
       " 17,\n",
       " 10,\n",
       " 11,\n",
       " 12,\n",
       " 13,\n",
       " 14,\n",
       " 15,\n",
       " 16,\n",
       " 17,\n",
       " 18]"
      ]
     },
     "execution_count": 41,
     "metadata": {},
     "output_type": "execute_result"
    }
   ],
   "source": [
    "list1=[1,2,3,4,5,6,7,8,9]\n",
    "list2=[]\n",
    "\n",
    "for a in list1:\n",
    "    for b in list1:\n",
    "        Sum=a+b\n",
    "        if Sum >=10:\n",
    "            list2.append(Sum)\n",
    "list2\n",
    "    "
   ]
  },
  {
   "cell_type": "code",
   "execution_count": null,
   "id": "798f561a",
   "metadata": {},
   "outputs": [],
   "source": []
  },
  {
   "cell_type": "code",
   "execution_count": null,
   "id": "6d8f2896",
   "metadata": {},
   "outputs": [],
   "source": []
  },
  {
   "cell_type": "code",
   "execution_count": null,
   "id": "f8aff9a3",
   "metadata": {},
   "outputs": [],
   "source": []
  },
  {
   "cell_type": "code",
   "execution_count": null,
   "id": "313f1177",
   "metadata": {},
   "outputs": [],
   "source": []
  },
  {
   "cell_type": "code",
   "execution_count": null,
   "id": "d2dff7cf",
   "metadata": {},
   "outputs": [],
   "source": []
  },
  {
   "cell_type": "code",
   "execution_count": null,
   "id": "ca7772cc",
   "metadata": {},
   "outputs": [],
   "source": []
  },
  {
   "cell_type": "code",
   "execution_count": null,
   "id": "b557f199",
   "metadata": {},
   "outputs": [],
   "source": []
  },
  {
   "cell_type": "code",
   "execution_count": null,
   "id": "d4b07cf6",
   "metadata": {},
   "outputs": [],
   "source": []
  },
  {
   "cell_type": "code",
   "execution_count": null,
   "id": "2d1ac235",
   "metadata": {},
   "outputs": [],
   "source": []
  },
  {
   "cell_type": "code",
   "execution_count": null,
   "id": "5e25a040",
   "metadata": {},
   "outputs": [],
   "source": []
  },
  {
   "cell_type": "code",
   "execution_count": null,
   "id": "81b4857a",
   "metadata": {},
   "outputs": [],
   "source": []
  },
  {
   "cell_type": "code",
   "execution_count": null,
   "id": "63fd0bc6",
   "metadata": {},
   "outputs": [],
   "source": []
  },
  {
   "cell_type": "code",
   "execution_count": null,
   "id": "bc6f0c93",
   "metadata": {},
   "outputs": [],
   "source": []
  },
  {
   "cell_type": "code",
   "execution_count": null,
   "id": "e9ddd823",
   "metadata": {},
   "outputs": [],
   "source": []
  },
  {
   "cell_type": "code",
   "execution_count": null,
   "id": "b1415300",
   "metadata": {},
   "outputs": [],
   "source": []
  },
  {
   "cell_type": "code",
   "execution_count": null,
   "id": "4d0a6c76",
   "metadata": {},
   "outputs": [],
   "source": []
  },
  {
   "cell_type": "code",
   "execution_count": null,
   "id": "5e4c42ce",
   "metadata": {},
   "outputs": [],
   "source": []
  },
  {
   "cell_type": "code",
   "execution_count": null,
   "id": "d6717c8c",
   "metadata": {},
   "outputs": [],
   "source": []
  },
  {
   "cell_type": "code",
   "execution_count": null,
   "id": "2adaae10",
   "metadata": {},
   "outputs": [],
   "source": []
  },
  {
   "cell_type": "code",
   "execution_count": null,
   "id": "030c5f00",
   "metadata": {},
   "outputs": [],
   "source": []
  },
  {
   "cell_type": "code",
   "execution_count": null,
   "id": "9ee0a594",
   "metadata": {},
   "outputs": [],
   "source": []
  },
  {
   "cell_type": "code",
   "execution_count": null,
   "id": "99cd3375",
   "metadata": {},
   "outputs": [],
   "source": []
  },
  {
   "cell_type": "code",
   "execution_count": null,
   "id": "0df7524b",
   "metadata": {},
   "outputs": [],
   "source": []
  },
  {
   "cell_type": "code",
   "execution_count": null,
   "id": "6a2953e3",
   "metadata": {},
   "outputs": [],
   "source": []
  },
  {
   "cell_type": "code",
   "execution_count": null,
   "id": "659df46a",
   "metadata": {},
   "outputs": [],
   "source": []
  }
 ],
 "metadata": {
  "kernelspec": {
   "display_name": "Python 3 (ipykernel)",
   "language": "python",
   "name": "python3"
  },
  "language_info": {
   "codemirror_mode": {
    "name": "ipython",
    "version": 3
   },
   "file_extension": ".py",
   "mimetype": "text/x-python",
   "name": "python",
   "nbconvert_exporter": "python",
   "pygments_lexer": "ipython3",
   "version": "3.9.7"
  }
 },
 "nbformat": 4,
 "nbformat_minor": 5
}
